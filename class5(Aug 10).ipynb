{
 "cells": [
  {
   "cell_type": "markdown",
   "id": "3fb5f736",
   "metadata": {},
   "source": [
    "## value by reference"
   ]
  },
  {
   "cell_type": "code",
   "execution_count": 1,
   "id": "8ff10d57",
   "metadata": {},
   "outputs": [
    {
     "data": {
      "text/plain": [
       "[29, 2, 3, 4]"
      ]
     },
     "execution_count": 1,
     "metadata": {},
     "output_type": "execute_result"
    }
   ],
   "source": [
    "a= [1,2,3,4] # mutable , reference assigned, pass by reference\n",
    "a[0]=29\n",
    "a"
   ]
  },
  {
   "cell_type": "code",
   "execution_count": 2,
   "id": "8955b9ae",
   "metadata": {},
   "outputs": [
    {
     "data": {
      "text/plain": [
       "12"
      ]
     },
     "execution_count": 2,
     "metadata": {},
     "output_type": "execute_result"
    }
   ],
   "source": [
    "b = 12  # immutable , value assigned, pass by value\n",
    "c=b\n",
    "c\n"
   ]
  },
  {
   "cell_type": "code",
   "execution_count": 5,
   "id": "50750f0c",
   "metadata": {},
   "outputs": [
    {
     "data": {
      "text/plain": [
       "(13, 12)"
      ]
     },
     "execution_count": 5,
     "metadata": {},
     "output_type": "execute_result"
    }
   ],
   "source": [
    "c+=1  # original doesnt change \n",
    "c,b"
   ]
  },
  {
   "cell_type": "markdown",
   "id": "71e588f7",
   "metadata": {},
   "source": [
    "## shallow and deep cpy"
   ]
  },
  {
   "cell_type": "code",
   "execution_count": 8,
   "id": "40a4b94b",
   "metadata": {},
   "outputs": [
    {
     "data": {
      "text/plain": [
       "['karachi', ['lahore'], 'quetta']"
      ]
     },
     "execution_count": 8,
     "metadata": {},
     "output_type": "execute_result"
    }
   ],
   "source": [
    "z= [\"karachi\",[\"lahore\"],\"quetta\"]\n",
    "e = z[:] #shallow , only copies outer list,!!!\n",
    "e"
   ]
  },
  {
   "cell_type": "code",
   "execution_count": 9,
   "id": "5c8317d0",
   "metadata": {},
   "outputs": [],
   "source": [
    "e[1][0]=\"las noches\""
   ]
  },
  {
   "cell_type": "code",
   "execution_count": 10,
   "id": "1bb2f466",
   "metadata": {},
   "outputs": [
    {
     "data": {
      "text/plain": [
       "['karachi', ['las noches'], 'quetta']"
      ]
     },
     "execution_count": 10,
     "metadata": {},
     "output_type": "execute_result"
    }
   ],
   "source": [
    "e"
   ]
  },
  {
   "cell_type": "code",
   "execution_count": null,
   "id": "0c0e57c7",
   "metadata": {},
   "outputs": [],
   "source": []
  }
 ],
 "metadata": {
  "kernelspec": {
   "display_name": "Python 3 (ipykernel)",
   "language": "python",
   "name": "python3"
  },
  "language_info": {
   "codemirror_mode": {
    "name": "ipython",
    "version": 3
   },
   "file_extension": ".py",
   "mimetype": "text/x-python",
   "name": "python",
   "nbconvert_exporter": "python",
   "pygments_lexer": "ipython3",
   "version": "3.11.2"
  }
 },
 "nbformat": 4,
 "nbformat_minor": 5
}
