{
 "cells": [
  {
   "cell_type": "markdown",
   "id": "84ddee2e",
   "metadata": {},
   "source": [
    "# ASSIGNMENT #3 STRING"
   ]
  },
  {
   "cell_type": "markdown",
   "id": "cf6d646f",
   "metadata": {},
   "source": [
    "1. Write a program that accepts a string from user. Your program should count and display number of\n",
    "vowels in that string. "
   ]
  },
  {
   "cell_type": "code",
   "execution_count": 1,
   "id": "d99c589e",
   "metadata": {},
   "outputs": [
    {
     "name": "stdout",
     "output_type": "stream",
     "text": [
      "enter a string  hello\n"
     ]
    },
    {
     "data": {
      "text/plain": [
       "2"
      ]
     },
     "execution_count": 1,
     "metadata": {},
     "output_type": "execute_result"
    }
   ],
   "source": [
    "str= input(\"enter a string  \")\n",
    "a=str.count(\"a\")\n",
    "b=str.count(\"e\")\n",
    "c=str.count(\"i\")\n",
    "d=str.count(\"o\")\n",
    "e=str.count(\"u\")\n",
    "num=a+b+c+d+e\n",
    "num\n",
    "\n",
    "\n"
   ]
  },
  {
   "cell_type": "markdown",
   "id": "4b466837",
   "metadata": {},
   "source": [
    " 2. Write a program that reads a string from keyboard and display:\n",
    "* The number of uppercase letters in the string\n",
    "* The number of lowercase letters in the string\n",
    "* The number of digits in the string\n",
    "* The number of whitespace characters in the string "
   ]
  },
  {
   "cell_type": "code",
   "execution_count": 2,
   "id": "035b7091",
   "metadata": {},
   "outputs": [
    {
     "name": "stdout",
     "output_type": "stream",
     "text": [
      "Enter a string: hello\n",
      "Uppercase letters: 0\n",
      "Lowercase letters: 5\n",
      "Digits: 0\n",
      "Whitespace characters: 0\n"
     ]
    }
   ],
   "source": [
    "text = input(\"Enter a string: \")\n",
    "\n",
    "upper = 0\n",
    "lower = 0\n",
    "digit = 0\n",
    "space = 0\n",
    "\n",
    "for ch in text:\n",
    "    if ch.isupper():\n",
    "        upper += 1\n",
    "    elif ch.islower():\n",
    "        lower += 1\n",
    "    elif ch.isdigit():\n",
    "        digit += 1\n",
    "    elif ch.isspace():\n",
    "        space += 1\n",
    "\n",
    "print(\"Uppercase letters:\", upper)\n",
    "print(\"Lowercase letters:\", lower)\n",
    "print(\"Digits:\", digit)\n",
    "print(\"Whitespace characters:\", space)\n"
   ]
  },
  {
   "cell_type": "markdown",
   "id": "00acb829",
   "metadata": {},
   "source": [
    "3. Write a Python program that accepts a string from user. Your program should create and display a\n",
    "new string where the first and last characters have been exchanged. "
   ]
  },
  {
   "cell_type": "code",
   "execution_count": 3,
   "id": "6a74b0f9",
   "metadata": {},
   "outputs": [
    {
     "name": "stdout",
     "output_type": "stream",
     "text": [
      "enter a string hello\n"
     ]
    },
    {
     "data": {
      "text/plain": [
       "'oellh'"
      ]
     },
     "execution_count": 3,
     "metadata": {},
     "output_type": "execute_result"
    }
   ],
   "source": [
    "text=input(\"enter a string \")\n",
    "jumble=text[-1]+text[1:-1]+text[0]\n",
    "jumble"
   ]
  },
  {
   "cell_type": "markdown",
   "id": "6424ec37",
   "metadata": {},
   "source": [
    "4. Write a Python program that accepts a string from user. Your program should create a new string in\n",
    "reverse of first string and display it. "
   ]
  },
  {
   "cell_type": "code",
   "execution_count": 6,
   "id": "dc5e08c8",
   "metadata": {},
   "outputs": [
    {
     "name": "stdout",
     "output_type": "stream",
     "text": [
      "enter a string helloooo\n"
     ]
    },
    {
     "data": {
      "text/plain": [
       "'oooolleh'"
      ]
     },
     "execution_count": 6,
     "metadata": {},
     "output_type": "execute_result"
    }
   ],
   "source": [
    "text=input(\"enter a string \")\n",
    "rev=text[::-1]\n",
    "rev\n"
   ]
  },
  {
   "cell_type": "markdown",
   "id": "b688f18c",
   "metadata": {},
   "source": [
    "5. Write a Python program that accepts a string from user. Your program should create a new string by\n",
    "shifting one position to left.\n",
    "For example if the user enters the string 'examination 2021' then new string would be 'xamination\n",
    "2021e' "
   ]
  },
  {
   "cell_type": "code",
   "execution_count": 8,
   "id": "8bc89671",
   "metadata": {},
   "outputs": [
    {
     "name": "stdout",
     "output_type": "stream",
     "text": [
      "enter a string hellloooo\n"
     ]
    },
    {
     "data": {
      "text/plain": [
       "'ellloooh'"
      ]
     },
     "execution_count": 8,
     "metadata": {},
     "output_type": "execute_result"
    }
   ],
   "source": [
    "text=input(\"enter a string \")\n",
    "shift=text[1:-1:]+text[0]\n",
    "shift"
   ]
  },
  {
   "cell_type": "markdown",
   "id": "918dbd13",
   "metadata": {},
   "source": [
    " 6. Write a program that asks the user to input his name and print its initials. Assuming that the user\n",
    "always types first name, middle name and last name and does not include any unnecessary spaces.\n",
    "For example, if the user enters Ajay Kumar Garg the program should display A. K. G.\n",
    "Note:Don't use split() method "
   ]
  },
  {
   "cell_type": "code",
   "execution_count": 9,
   "id": "57fa2907",
   "metadata": {},
   "outputs": [
    {
     "name": "stdout",
     "output_type": "stream",
     "text": [
      "Enter your full name (first, middle, last): arham Ahmed hello\n",
      "Initials: A. A. H. "
     ]
    }
   ],
   "source": [
    "name = input(\"Enter your full name (first, middle, last): \")\n",
    "\n",
    "print(\"Initials:\", end=\" \")\n",
    "\n",
    "print(name[0].upper() + \".\", end=\" \")\n",
    "\n",
    "\n",
    "for i in range(len(name)):\n",
    "    if name[i] == \" \":\n",
    "        # Character after space is the next initial\n",
    "        print(name[i+1].upper() + \".\", end=\" \")\n"
   ]
  },
  {
   "cell_type": "markdown",
   "id": "8c058e3e",
   "metadata": {},
   "source": [
    "7. A palindrome is a string that reads the same backward as forward. For example, the words dad,\n",
    "madam and radar are all palindromes. Write a programs that determines whether the string is a\n",
    "palindrome.\n",
    "Note: do not use reverse() method\n"
   ]
  },
  {
   "cell_type": "code",
   "execution_count": 12,
   "id": "5ac46083",
   "metadata": {},
   "outputs": [
    {
     "name": "stdout",
     "output_type": "stream",
     "text": [
      "entera string to check if palindrome  sis\n",
      "it is a palindrome\n"
     ]
    }
   ],
   "source": [
    "text=input(\"entera string to check if palindrome  \")\n",
    "if text==text[::-1]:\n",
    "    print(\"it is a palindrome\")\n",
    "else:\n",
    "    print(\"not a palindrome \")"
   ]
  },
  {
   "cell_type": "markdown",
   "id": "097e3e9c",
   "metadata": {},
   "source": [
    "8. Write a program that display following output:\n",
    "SHIFT\n",
    "HIFTS\n",
    "IFTSH\n",
    "FTSHI\n",
    "TSHIF\n",
    "SHIFT "
   ]
  },
  {
   "cell_type": "code",
   "execution_count": 26,
   "id": "0e559412",
   "metadata": {},
   "outputs": [
    {
     "name": "stdout",
     "output_type": "stream",
     "text": [
      "SHIFT\n",
      "HIFTS\n",
      "IFTSH\n",
      "FTSHI\n",
      "TSHIF\n",
      "SHIFT\n"
     ]
    }
   ],
   "source": [
    "text = \"SHIFT\"\n",
    "\n",
    "for i in range(len(text) + 1):\n",
    "    print(text[i:] + text[:i])\n"
   ]
  },
  {
   "cell_type": "markdown",
   "id": "48556e2f",
   "metadata": {},
   "source": [
    " 9. Write a program in python that accepts a string to setup a passwords. Your entered password must\n",
    "meet the following requirements:\n",
    "The password must be at least eight characters long.\n",
    "It must contain at least one uppercase letter.\n",
    "It must contain at least one lowercase letter.\n",
    "It must contain at least one numeric digit.\n",
    "Your program should should perform this validation. "
   ]
  },
  {
   "cell_type": "code",
   "execution_count": 37,
   "id": "46cb461a",
   "metadata": {},
   "outputs": [
    {
     "name": "stdout",
     "output_type": "stream",
     "text": [
      "Enter your password: Arham2006\n",
      "Password is valid\n"
     ]
    }
   ],
   "source": [
    "passw = input(\"Enter your password: \")\n",
    "\n",
    "a = len(passw)\n",
    "b = sum(c.isupper() for c in passw)\n",
    "c = sum(c.islower() for c in passw)\n",
    "d = sum(c.isdigit() for c in passw)\n",
    "\n",
    "if a >= 8 and b >= 1 and c >= 1 and d >= 1:\n",
    "    print(\"Password is valid\")\n",
    "else:\n",
    "    print(\"Password is not valid\")\n",
    "\n"
   ]
  },
  {
   "cell_type": "code",
   "execution_count": null,
   "id": "391da692",
   "metadata": {},
   "outputs": [],
   "source": []
  }
 ],
 "metadata": {
  "kernelspec": {
   "display_name": "Python 3 (ipykernel)",
   "language": "python",
   "name": "python3"
  },
  "language_info": {
   "codemirror_mode": {
    "name": "ipython",
    "version": 3
   },
   "file_extension": ".py",
   "mimetype": "text/x-python",
   "name": "python",
   "nbconvert_exporter": "python",
   "pygments_lexer": "ipython3",
   "version": "3.11.2"
  }
 },
 "nbformat": 4,
 "nbformat_minor": 5
}
