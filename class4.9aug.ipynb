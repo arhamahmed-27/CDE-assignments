{
 "cells": [
  {
   "cell_type": "markdown",
   "id": "4b4054b0",
   "metadata": {},
   "source": [
    "# 1. LIST"
   ]
  },
  {
   "cell_type": "code",
   "execution_count": 2,
   "id": "5875c10a",
   "metadata": {},
   "outputs": [],
   "source": [
    "city_0 = \"atlanta\"\n",
    "city_1 = \"baltimore\"\n",
    "city_2 = \"chicago\"\n",
    "city_3 = \"denver\"\n",
    "city_4 = \"los angeles\"\n",
    "city_5 = \"seattle\""
   ]
  },
  {
   "cell_type": "code",
   "execution_count": 3,
   "id": "fc626a39",
   "metadata": {},
   "outputs": [
    {
     "data": {
      "text/plain": [
       "(139933074556336, 139933074558128)"
      ]
     },
     "execution_count": 3,
     "metadata": {},
     "output_type": "execute_result"
    }
   ],
   "source": [
    "id(city_0),id(city_4)"
   ]
  },
  {
   "cell_type": "markdown",
   "id": "610a4e4e",
   "metadata": {},
   "source": [
    "- managing collection of values\n",
    "- slower\n",
    "- solution : data structure for collection of values : list"
   ]
  },
  {
   "cell_type": "code",
   "execution_count": 4,
   "id": "744789fa",
   "metadata": {},
   "outputs": [],
   "source": [
    "cities = [\"atlanta\",\"baltimore\",\"chicago\",\"denver\",\"los angeles\",\"seattle\"]"
   ]
  },
  {
   "cell_type": "code",
   "execution_count": 3,
   "id": "065ae149",
   "metadata": {},
   "outputs": [
    {
     "ename": "NameError",
     "evalue": "name 'cities' is not defined",
     "output_type": "error",
     "traceback": [
      "\u001b[0;31m---------------------------------------------------------------------------\u001b[0m",
      "\u001b[0;31mNameError\u001b[0m                                 Traceback (most recent call last)",
      "Cell \u001b[0;32mIn [3], line 1\u001b[0m\n\u001b[0;32m----> 1\u001b[0m \u001b[38;5;28mprint\u001b[39m (\u001b[38;5;28mtype\u001b[39m(\u001b[43mcities\u001b[49m), \u001b[38;5;28mid\u001b[39m(cities))\n",
      "\u001b[0;31mNameError\u001b[0m: name 'cities' is not defined"
     ]
    }
   ],
   "source": [
    "print (type(cities), id(cities))"
   ]
  },
  {
   "cell_type": "code",
   "execution_count": 7,
   "id": "7d286ad1",
   "metadata": {},
   "outputs": [],
   "source": [
    "cities.append(\"karachi\") #adds the argument to the list"
   ]
  },
  {
   "cell_type": "code",
   "execution_count": 5,
   "id": "04ca7f0a",
   "metadata": {},
   "outputs": [
    {
     "name": "stdout",
     "output_type": "stream",
     "text": [
      "/usr/bin/python3\n",
      "Python 3.11.2\n"
     ]
    }
   ],
   "source": [
    "!which python3\n",
    "!python3 --version\n",
    "\n"
   ]
  },
  {
   "cell_type": "code",
   "execution_count": 9,
   "id": "29aa3633",
   "metadata": {},
   "outputs": [
    {
     "data": {
      "text/plain": [
       "['atlanta',\n",
       " 'baltimore',\n",
       " 'chicago',\n",
       " 'denver',\n",
       " 'los angeles',\n",
       " 'seattle',\n",
       " 'karachi']"
      ]
     },
     "execution_count": 9,
     "metadata": {},
     "output_type": "execute_result"
    }
   ],
   "source": [
    "cities\n",
    "\n"
   ]
  },
  {
   "cell_type": "code",
   "execution_count": 11,
   "id": "cf89c380",
   "metadata": {},
   "outputs": [
    {
     "data": {
      "text/plain": [
       "1"
      ]
     },
     "execution_count": 11,
     "metadata": {},
     "output_type": "execute_result"
    }
   ],
   "source": [
    "cities.count(\"chicago\")# takes arg and tells how many of it are present in list"
   ]
  },
  {
   "cell_type": "code",
   "execution_count": 14,
   "id": "500fada0",
   "metadata": {},
   "outputs": [],
   "source": [
    "cities.extend([\"islamabad\",\"questta\"]) # like append but it takes iteratable "
   ]
  },
  {
   "cell_type": "code",
   "execution_count": 15,
   "id": "221b0d86",
   "metadata": {},
   "outputs": [
    {
     "data": {
      "text/plain": [
       "['atlanta',\n",
       " 'baltimore',\n",
       " 'chicago',\n",
       " 'denver',\n",
       " 'los angeles',\n",
       " 'seattle',\n",
       " 'karachi',\n",
       " 'islamabad',\n",
       " 'questta',\n",
       " 'islamabad',\n",
       " 'questta']"
      ]
     },
     "execution_count": 15,
     "metadata": {},
     "output_type": "execute_result"
    }
   ],
   "source": [
    "cities"
   ]
  },
  {
   "cell_type": "code",
   "execution_count": 18,
   "id": "acae077a",
   "metadata": {},
   "outputs": [],
   "source": [
    "cities.insert(1,\"peshawar\") # insert single value at a particular index"
   ]
  },
  {
   "cell_type": "code",
   "execution_count": 19,
   "id": "065761b6",
   "metadata": {},
   "outputs": [
    {
     "data": {
      "text/plain": [
       "['atlanta',\n",
       " 'peshawar',\n",
       " 'peshawar',\n",
       " 'baltimore',\n",
       " 'chicago',\n",
       " 'denver',\n",
       " 'los angeles',\n",
       " 'seattle',\n",
       " 'karachi',\n",
       " 'islamabad',\n",
       " 'questta',\n",
       " 'islamabad',\n",
       " 'questta']"
      ]
     },
     "execution_count": 19,
     "metadata": {},
     "output_type": "execute_result"
    }
   ],
   "source": [
    "cities"
   ]
  },
  {
   "cell_type": "code",
   "execution_count": 21,
   "id": "9b952c48",
   "metadata": {},
   "outputs": [
    {
     "data": {
      "text/plain": [
       "8"
      ]
     },
     "execution_count": 21,
     "metadata": {},
     "output_type": "execute_result"
    }
   ],
   "source": [
    "cities.index(\"karachi\") # tells tells the position"
   ]
  },
  {
   "cell_type": "code",
   "execution_count": 23,
   "id": "e7624a94",
   "metadata": {},
   "outputs": [
    {
     "data": {
      "text/plain": [
       "'karachi'"
      ]
     },
     "execution_count": 23,
     "metadata": {},
     "output_type": "execute_result"
    }
   ],
   "source": [
    "cities.pop(7) # remove and show the item from the list"
   ]
  },
  {
   "cell_type": "code",
   "execution_count": 24,
   "id": "4cd7a573",
   "metadata": {},
   "outputs": [
    {
     "data": {
      "text/plain": [
       "['atlanta',\n",
       " 'peshawar',\n",
       " 'peshawar',\n",
       " 'baltimore',\n",
       " 'chicago',\n",
       " 'denver',\n",
       " 'los angeles',\n",
       " 'islamabad',\n",
       " 'questta',\n",
       " 'islamabad',\n",
       " 'questta']"
      ]
     },
     "execution_count": 24,
     "metadata": {},
     "output_type": "execute_result"
    }
   ],
   "source": [
    "cities"
   ]
  },
  {
   "cell_type": "code",
   "execution_count": 108,
   "id": "a7f954bb",
   "metadata": {},
   "outputs": [
    {
     "ename": "SyntaxError",
     "evalue": "cannot delete function call (3928186345.py, line 1)",
     "output_type": "error",
     "traceback": [
      "\u001b[0;36m  Cell \u001b[0;32mIn [108], line 1\u001b[0;36m\u001b[0m\n\u001b[0;31m    del cities(\"denver\")\u001b[0m\n\u001b[0m        ^\u001b[0m\n\u001b[0;31mSyntaxError\u001b[0m\u001b[0;31m:\u001b[0m cannot delete function call\n"
     ]
    }
   ],
   "source": []
  },
  {
   "cell_type": "code",
   "execution_count": 26,
   "id": "740c42a1",
   "metadata": {},
   "outputs": [
    {
     "data": {
      "text/plain": [
       "'islamabad'"
      ]
     },
     "execution_count": 26,
     "metadata": {},
     "output_type": "execute_result"
    }
   ],
   "source": [
    "cities.pop() # if not given last item gets popped"
   ]
  },
  {
   "cell_type": "code",
   "execution_count": 27,
   "id": "b20983fb",
   "metadata": {},
   "outputs": [],
   "source": [
    "cities.append(\"peshawar\")"
   ]
  },
  {
   "cell_type": "code",
   "execution_count": 28,
   "id": "f9d643a1",
   "metadata": {},
   "outputs": [
    {
     "data": {
      "text/plain": [
       "['atlanta',\n",
       " 'peshawar',\n",
       " 'peshawar',\n",
       " 'baltimore',\n",
       " 'chicago',\n",
       " 'denver',\n",
       " 'los angeles',\n",
       " 'islamabad',\n",
       " 'questta',\n",
       " 'peshawar']"
      ]
     },
     "execution_count": 28,
     "metadata": {},
     "output_type": "execute_result"
    }
   ],
   "source": [
    "cities"
   ]
  },
  {
   "cell_type": "code",
   "execution_count": 29,
   "id": "45fc0aa2",
   "metadata": {},
   "outputs": [],
   "source": [
    "cities.remove(\"peshawar\") # removes the first occurance of the listing"
   ]
  },
  {
   "cell_type": "code",
   "execution_count": 31,
   "id": "8f3a17e9",
   "metadata": {},
   "outputs": [
    {
     "data": {
      "text/plain": [
       "['atlanta',\n",
       " 'peshawar',\n",
       " 'baltimore',\n",
       " 'chicago',\n",
       " 'denver',\n",
       " 'los angeles',\n",
       " 'islamabad',\n",
       " 'questta',\n",
       " 'peshawar']"
      ]
     },
     "execution_count": 31,
     "metadata": {},
     "output_type": "execute_result"
    }
   ],
   "source": [
    "cities # problem"
   ]
  },
  {
   "cell_type": "code",
   "execution_count": 33,
   "id": "5d73da66",
   "metadata": {},
   "outputs": [],
   "source": [
    "cities.sort() # sorts in alphabetical order"
   ]
  },
  {
   "cell_type": "code",
   "execution_count": 34,
   "id": "8f19da54",
   "metadata": {},
   "outputs": [
    {
     "data": {
      "text/plain": [
       "['atlanta',\n",
       " 'baltimore',\n",
       " 'chicago',\n",
       " 'denver',\n",
       " 'islamabad',\n",
       " 'los angeles',\n",
       " 'peshawar',\n",
       " 'peshawar',\n",
       " 'questta']"
      ]
     },
     "execution_count": 34,
     "metadata": {},
     "output_type": "execute_result"
    }
   ],
   "source": [
    "cities"
   ]
  },
  {
   "cell_type": "code",
   "execution_count": 35,
   "id": "4b6845c7",
   "metadata": {},
   "outputs": [],
   "source": [
    "cities.clear() # remove all the listings"
   ]
  },
  {
   "cell_type": "code",
   "execution_count": 36,
   "id": "e0775867",
   "metadata": {},
   "outputs": [
    {
     "data": {
      "text/plain": [
       "[]"
      ]
     },
     "execution_count": 36,
     "metadata": {},
     "output_type": "execute_result"
    }
   ],
   "source": [
    "cities"
   ]
  },
  {
   "cell_type": "markdown",
   "id": "cea13fbc",
   "metadata": {},
   "source": [
    "## shallow / deep copy\n",
    "- shallow copy, do deep copy urself"
   ]
  },
  {
   "cell_type": "code",
   "execution_count": 58,
   "id": "121bffc9",
   "metadata": {},
   "outputs": [],
   "source": [
    "cities= ['atlanta',\n",
    " 'baltimore',\n",
    " 'chicago',\n",
    " 'denver',\n",
    " 'islamabad',\n",
    " 'los angeles',\n",
    " 'peshawar',\n",
    " 'peshawar',\n",
    " 'questta']"
   ]
  },
  {
   "cell_type": "code",
   "execution_count": 59,
   "id": "6b7e8281",
   "metadata": {},
   "outputs": [],
   "source": [
    "cities_new= cities.copy() # returns a shallow copy of the list"
   ]
  },
  {
   "cell_type": "code",
   "execution_count": 60,
   "id": "94719c8c",
   "metadata": {},
   "outputs": [
    {
     "name": "stdout",
     "output_type": "stream",
     "text": [
      "<class 'list'> 139932566378048\n"
     ]
    }
   ],
   "source": [
    "print(type(cities_new),id(cities_new))"
   ]
  },
  {
   "cell_type": "code",
   "execution_count": 61,
   "id": "734f6f8d",
   "metadata": {},
   "outputs": [
    {
     "name": "stdout",
     "output_type": "stream",
     "text": [
      "<class 'list'> 139932566540800\n"
     ]
    }
   ],
   "source": [
    "print(type(cities),id(cities)) # both locations of cities and new_cities are diff because they re placed on diff locations"
   ]
  },
  {
   "cell_type": "markdown",
   "id": "f3e49074",
   "metadata": {},
   "source": []
  },
  {
   "cell_type": "code",
   "execution_count": 62,
   "id": "78d7bf1e",
   "metadata": {},
   "outputs": [],
   "source": [
    "cities.append(\"karachi\")"
   ]
  },
  {
   "cell_type": "code",
   "execution_count": 63,
   "id": "b10213a1",
   "metadata": {},
   "outputs": [
    {
     "data": {
      "text/plain": [
       "['atlanta',\n",
       " 'baltimore',\n",
       " 'chicago',\n",
       " 'denver',\n",
       " 'islamabad',\n",
       " 'los angeles',\n",
       " 'peshawar',\n",
       " 'peshawar',\n",
       " 'questta']"
      ]
     },
     "execution_count": 63,
     "metadata": {},
     "output_type": "execute_result"
    }
   ],
   "source": [
    "cities_new # it didnt change because of the append in cities !!!!!!!!!\n"
   ]
  },
  {
   "cell_type": "markdown",
   "id": "ffba6a33",
   "metadata": {},
   "source": [
    "### task :\n",
    "- implmented deep copy on list (H.W)\n",
    "- adding values at diff index without using \".index()\" method"
   ]
  },
  {
   "cell_type": "code",
   "execution_count": 64,
   "id": "f4589f76",
   "metadata": {},
   "outputs": [],
   "source": [
    "cities[0]= \"hyderabad\" # replace the listing with the same index "
   ]
  },
  {
   "cell_type": "code",
   "execution_count": 65,
   "id": "71158f3c",
   "metadata": {},
   "outputs": [
    {
     "data": {
      "text/plain": [
       "['hyderabad',\n",
       " 'baltimore',\n",
       " 'chicago',\n",
       " 'denver',\n",
       " 'islamabad',\n",
       " 'los angeles',\n",
       " 'peshawar',\n",
       " 'peshawar',\n",
       " 'questta',\n",
       " 'karachi']"
      ]
     },
     "execution_count": 65,
     "metadata": {},
     "output_type": "execute_result"
    }
   ],
   "source": [
    "cities"
   ]
  },
  {
   "cell_type": "code",
   "execution_count": 66,
   "id": "115f6d7f",
   "metadata": {},
   "outputs": [
    {
     "data": {
      "text/plain": [
       "['hyderabad',\n",
       " 'baltimore',\n",
       " 'chicago',\n",
       " 'denver',\n",
       " 'islamabad',\n",
       " 'los angeles',\n",
       " 'peshawar',\n",
       " 'peshawar',\n",
       " 'questta',\n",
       " 'karachi']"
      ]
     },
     "execution_count": 66,
     "metadata": {},
     "output_type": "execute_result"
    }
   ],
   "source": [
    "cities"
   ]
  },
  {
   "cell_type": "markdown",
   "id": "57b8ffa7",
   "metadata": {},
   "source": [
    "## slicing "
   ]
  },
  {
   "cell_type": "code",
   "execution_count": 67,
   "id": "99c168a1",
   "metadata": {},
   "outputs": [
    {
     "data": {
      "text/plain": [
       "['hyderabad',\n",
       " 'baltimore',\n",
       " 'chicago',\n",
       " 'denver',\n",
       " 'islamabad',\n",
       " 'los angeles',\n",
       " 'peshawar',\n",
       " 'peshawar',\n",
       " 'questta',\n",
       " 'karachi']"
      ]
     },
     "execution_count": 67,
     "metadata": {},
     "output_type": "execute_result"
    }
   ],
   "source": [
    "cities"
   ]
  },
  {
   "cell_type": "code",
   "execution_count": 69,
   "id": "fbbbeddd",
   "metadata": {},
   "outputs": [
    {
     "data": {
      "text/plain": [
       "['hyderabad', 'baltimore', 'chicago', 'denver', 'islamabad']"
      ]
     },
     "execution_count": 69,
     "metadata": {},
     "output_type": "execute_result"
    }
   ],
   "source": [
    "cities[:5] #first included and last not included"
   ]
  },
  {
   "cell_type": "code",
   "execution_count": 70,
   "id": "a873993b",
   "metadata": {},
   "outputs": [
    {
     "data": {
      "text/plain": [
       "['chicago', 'denver', 'islamabad']"
      ]
     },
     "execution_count": 70,
     "metadata": {},
     "output_type": "execute_result"
    }
   ],
   "source": [
    "cities[2:5]"
   ]
  },
  {
   "cell_type": "code",
   "execution_count": null,
   "id": "c10ed924",
   "metadata": {},
   "outputs": [],
   "source": [
    "cities"
   ]
  },
  {
   "cell_type": "code",
   "execution_count": 71,
   "id": "c926b1da",
   "metadata": {},
   "outputs": [
    {
     "data": {
      "text/plain": [
       "['chicago',\n",
       " 'denver',\n",
       " 'islamabad',\n",
       " 'los angeles',\n",
       " 'peshawar',\n",
       " 'peshawar',\n",
       " 'questta',\n",
       " 'karachi']"
      ]
     },
     "execution_count": 71,
     "metadata": {},
     "output_type": "execute_result"
    }
   ],
   "source": [
    "cities[2:]"
   ]
  },
  {
   "cell_type": "code",
   "execution_count": 73,
   "id": "74b87a59",
   "metadata": {},
   "outputs": [
    {
     "data": {
      "text/plain": [
       "['karachi',\n",
       " 'questta',\n",
       " 'peshawar',\n",
       " 'peshawar',\n",
       " 'los angeles',\n",
       " 'islamabad',\n",
       " 'denver',\n",
       " 'chicago',\n",
       " 'baltimore',\n",
       " 'hyderabad']"
      ]
     },
     "execution_count": 73,
     "metadata": {},
     "output_type": "execute_result"
    }
   ],
   "source": [
    "cities[::-1]"
   ]
  },
  {
   "cell_type": "markdown",
   "id": "f1656146",
   "metadata": {},
   "source": [
    "### TASK : make a list and apply all the methods we learned today"
   ]
  },
  {
   "cell_type": "code",
   "execution_count": 74,
   "id": "1af28df9",
   "metadata": {},
   "outputs": [],
   "source": [
    "students= [\"kaiser\",\"rin\",\"isagi\",\"sae\",\"barou\",\"noel\",\"loki\",\"nagi\",\"reo\",\"kunigami\"]"
   ]
  },
  {
   "cell_type": "code",
   "execution_count": 75,
   "id": "c2aec92b",
   "metadata": {},
   "outputs": [
    {
     "data": {
      "text/plain": [
       "['kaiser',\n",
       " 'rin',\n",
       " 'isagi',\n",
       " 'sae',\n",
       " 'barou',\n",
       " 'noel',\n",
       " 'loki',\n",
       " 'nagi',\n",
       " 'reo',\n",
       " 'kunigami']"
      ]
     },
     "execution_count": 75,
     "metadata": {},
     "output_type": "execute_result"
    }
   ],
   "source": [
    "students"
   ]
  },
  {
   "cell_type": "code",
   "execution_count": 76,
   "id": "1f6a67e7",
   "metadata": {},
   "outputs": [],
   "source": [
    "students.append(\"kira\")"
   ]
  },
  {
   "cell_type": "code",
   "execution_count": 77,
   "id": "e4ef6036",
   "metadata": {},
   "outputs": [
    {
     "data": {
      "text/plain": [
       "['kaiser',\n",
       " 'rin',\n",
       " 'isagi',\n",
       " 'sae',\n",
       " 'barou',\n",
       " 'noel',\n",
       " 'loki',\n",
       " 'nagi',\n",
       " 'reo',\n",
       " 'kunigami',\n",
       " 'kira']"
      ]
     },
     "execution_count": 77,
     "metadata": {},
     "output_type": "execute_result"
    }
   ],
   "source": [
    "students"
   ]
  },
  {
   "cell_type": "code",
   "execution_count": 78,
   "id": "bb6fc6cd",
   "metadata": {},
   "outputs": [
    {
     "data": {
      "text/plain": [
       "1"
      ]
     },
     "execution_count": 78,
     "metadata": {},
     "output_type": "execute_result"
    }
   ],
   "source": [
    "students.count(\"isagi\")"
   ]
  },
  {
   "cell_type": "code",
   "execution_count": 80,
   "id": "4ce1d930",
   "metadata": {},
   "outputs": [],
   "source": [
    "students.insert(7,\"bachira\")"
   ]
  },
  {
   "cell_type": "code",
   "execution_count": 81,
   "id": "de4b7820",
   "metadata": {},
   "outputs": [
    {
     "data": {
      "text/plain": [
       "['kaiser',\n",
       " 'rin',\n",
       " 'isagi',\n",
       " 'sae',\n",
       " 'barou',\n",
       " 'noel',\n",
       " 'loki',\n",
       " 'bachira',\n",
       " 'nagi',\n",
       " 'reo',\n",
       " 'kunigami',\n",
       " 'kira']"
      ]
     },
     "execution_count": 81,
     "metadata": {},
     "output_type": "execute_result"
    }
   ],
   "source": [
    "students"
   ]
  },
  {
   "cell_type": "code",
   "execution_count": 82,
   "id": "89599d46",
   "metadata": {},
   "outputs": [
    {
     "data": {
      "text/plain": [
       "0"
      ]
     },
     "execution_count": 82,
     "metadata": {},
     "output_type": "execute_result"
    }
   ],
   "source": [
    "students.index(\"kaiser\")"
   ]
  },
  {
   "cell_type": "code",
   "execution_count": 84,
   "id": "0e8a161c",
   "metadata": {},
   "outputs": [
    {
     "data": {
      "text/plain": [
       "'nagi'"
      ]
     },
     "execution_count": 84,
     "metadata": {},
     "output_type": "execute_result"
    }
   ],
   "source": [
    "students.pop(8)"
   ]
  },
  {
   "cell_type": "code",
   "execution_count": 85,
   "id": "7eca342f",
   "metadata": {},
   "outputs": [
    {
     "data": {
      "text/plain": [
       "['kaiser',\n",
       " 'rin',\n",
       " 'isagi',\n",
       " 'sae',\n",
       " 'barou',\n",
       " 'noel',\n",
       " 'loki',\n",
       " 'bachira',\n",
       " 'reo',\n",
       " 'kunigami',\n",
       " 'kira']"
      ]
     },
     "execution_count": 85,
     "metadata": {},
     "output_type": "execute_result"
    }
   ],
   "source": [
    "students"
   ]
  },
  {
   "cell_type": "code",
   "execution_count": 88,
   "id": "1b78a543",
   "metadata": {},
   "outputs": [],
   "source": [
    "students.sort()"
   ]
  },
  {
   "cell_type": "code",
   "execution_count": 89,
   "id": "c686a61e",
   "metadata": {},
   "outputs": [
    {
     "data": {
      "text/plain": [
       "['bachira',\n",
       " 'barou',\n",
       " 'isagi',\n",
       " 'kaiser',\n",
       " 'kira',\n",
       " 'kunigami',\n",
       " 'loki',\n",
       " 'noel',\n",
       " 'reo',\n",
       " 'rin',\n",
       " 'sae']"
      ]
     },
     "execution_count": 89,
     "metadata": {},
     "output_type": "execute_result"
    }
   ],
   "source": [
    "students"
   ]
  },
  {
   "cell_type": "code",
   "execution_count": 90,
   "id": "df5611c4",
   "metadata": {},
   "outputs": [],
   "source": [
    "students.extend([\"aiku\",\"ness\"])"
   ]
  },
  {
   "cell_type": "code",
   "execution_count": 91,
   "id": "aca8164f",
   "metadata": {},
   "outputs": [
    {
     "data": {
      "text/plain": [
       "['bachira',\n",
       " 'barou',\n",
       " 'isagi',\n",
       " 'kaiser',\n",
       " 'kira',\n",
       " 'kunigami',\n",
       " 'loki',\n",
       " 'noel',\n",
       " 'reo',\n",
       " 'rin',\n",
       " 'sae',\n",
       " 'aiku',\n",
       " 'ness']"
      ]
     },
     "execution_count": 91,
     "metadata": {},
     "output_type": "execute_result"
    }
   ],
   "source": [
    "students"
   ]
  },
  {
   "cell_type": "code",
   "execution_count": 92,
   "id": "7b000038",
   "metadata": {},
   "outputs": [],
   "source": [
    "students[4]=\"shidou\""
   ]
  },
  {
   "cell_type": "code",
   "execution_count": 93,
   "id": "055c8fe8",
   "metadata": {},
   "outputs": [
    {
     "data": {
      "text/plain": [
       "['bachira',\n",
       " 'barou',\n",
       " 'isagi',\n",
       " 'kaiser',\n",
       " 'shidou',\n",
       " 'kunigami',\n",
       " 'loki',\n",
       " 'noel',\n",
       " 'reo',\n",
       " 'rin',\n",
       " 'sae',\n",
       " 'aiku',\n",
       " 'ness']"
      ]
     },
     "execution_count": 93,
     "metadata": {},
     "output_type": "execute_result"
    }
   ],
   "source": [
    "students"
   ]
  },
  {
   "cell_type": "code",
   "execution_count": 94,
   "id": "71941abc",
   "metadata": {},
   "outputs": [],
   "source": [
    "students.reverse()"
   ]
  },
  {
   "cell_type": "code",
   "execution_count": 95,
   "id": "b39382e0",
   "metadata": {},
   "outputs": [
    {
     "data": {
      "text/plain": [
       "['ness',\n",
       " 'aiku',\n",
       " 'sae',\n",
       " 'rin',\n",
       " 'reo',\n",
       " 'noel',\n",
       " 'loki',\n",
       " 'kunigami',\n",
       " 'shidou',\n",
       " 'kaiser',\n",
       " 'isagi',\n",
       " 'barou',\n",
       " 'bachira']"
      ]
     },
     "execution_count": 95,
     "metadata": {},
     "output_type": "execute_result"
    }
   ],
   "source": [
    "students"
   ]
  },
  {
   "cell_type": "code",
   "execution_count": 96,
   "id": "d85ff81d",
   "metadata": {},
   "outputs": [],
   "source": [
    "egoists= students.copy()"
   ]
  },
  {
   "cell_type": "code",
   "execution_count": 99,
   "id": "ebd85094",
   "metadata": {},
   "outputs": [
    {
     "name": "stdout",
     "output_type": "stream",
     "text": [
      "139932562902208 139932566538752\n"
     ]
    }
   ],
   "source": [
    "print(id(egoists),\n",
    "id(students))"
   ]
  },
  {
   "cell_type": "code",
   "execution_count": 100,
   "id": "b3849c95",
   "metadata": {},
   "outputs": [],
   "source": [
    "students.append(\"chigri\")"
   ]
  },
  {
   "cell_type": "code",
   "execution_count": 101,
   "id": "796bfc70",
   "metadata": {},
   "outputs": [
    {
     "data": {
      "text/plain": [
       "['ness',\n",
       " 'aiku',\n",
       " 'sae',\n",
       " 'rin',\n",
       " 'reo',\n",
       " 'noel',\n",
       " 'loki',\n",
       " 'kunigami',\n",
       " 'shidou',\n",
       " 'kaiser',\n",
       " 'isagi',\n",
       " 'barou',\n",
       " 'bachira']"
      ]
     },
     "execution_count": 101,
     "metadata": {},
     "output_type": "execute_result"
    }
   ],
   "source": [
    "egoists"
   ]
  },
  {
   "cell_type": "code",
   "execution_count": 102,
   "id": "50490036",
   "metadata": {},
   "outputs": [
    {
     "data": {
      "text/plain": [
       "['ness',\n",
       " 'aiku',\n",
       " 'sae',\n",
       " 'rin',\n",
       " 'reo',\n",
       " 'noel',\n",
       " 'loki',\n",
       " 'kunigami',\n",
       " 'shidou',\n",
       " 'kaiser',\n",
       " 'isagi',\n",
       " 'barou',\n",
       " 'bachira',\n",
       " 'chigri']"
      ]
     },
     "execution_count": 102,
     "metadata": {},
     "output_type": "execute_result"
    }
   ],
   "source": [
    "students"
   ]
  },
  {
   "cell_type": "markdown",
   "id": "20b2a3e1",
   "metadata": {},
   "source": [
    " approx 25 chap , next class git"
   ]
  },
  {
   "cell_type": "markdown",
   "id": "04eacba7",
   "metadata": {},
   "source": [
    "- learn deep copy"
   ]
  },
  {
   "cell_type": "code",
   "execution_count": 104,
   "id": "97500b47",
   "metadata": {},
   "outputs": [
    {
     "data": {
      "text/plain": [
       "['chigri',\n",
       " 'bachira',\n",
       " 'barou',\n",
       " 'isagi',\n",
       " 'kaiser',\n",
       " 'shidou',\n",
       " 'kunigami',\n",
       " 'loki',\n",
       " 'noel',\n",
       " 'reo',\n",
       " 'rin',\n",
       " 'sae',\n",
       " 'aiku',\n",
       " 'ness']"
      ]
     },
     "execution_count": 104,
     "metadata": {},
     "output_type": "execute_result"
    }
   ],
   "source": [
    "students[::-1]"
   ]
  },
  {
   "cell_type": "code",
   "execution_count": 105,
   "id": "051809d1",
   "metadata": {},
   "outputs": [],
   "source": [
    "bio_data = [\"klein\",21,155,170]"
   ]
  },
  {
   "cell_type": "code",
   "execution_count": 106,
   "id": "6d062bbc",
   "metadata": {},
   "outputs": [
    {
     "data": {
      "text/plain": [
       "['klein', 21, 155, 170]"
      ]
     },
     "execution_count": 106,
     "metadata": {},
     "output_type": "execute_result"
    }
   ],
   "source": [
    "bio_data"
   ]
  },
  {
   "cell_type": "code",
   "execution_count": 109,
   "id": "02d035f4",
   "metadata": {},
   "outputs": [
    {
     "data": {
      "text/plain": [
       "4"
      ]
     },
     "execution_count": 109,
     "metadata": {},
     "output_type": "execute_result"
    }
   ],
   "source": [
    "len(bio_data)"
   ]
  },
  {
   "cell_type": "markdown",
   "id": "e4d18781",
   "metadata": {},
   "source": [
    "# tuples"
   ]
  },
  {
   "cell_type": "code",
   "execution_count": 110,
   "id": "ef85646c",
   "metadata": {},
   "outputs": [],
   "source": [
    "bio_data.append(\"klein\")"
   ]
  },
  {
   "cell_type": "code",
   "execution_count": 111,
   "id": "dda37231",
   "metadata": {},
   "outputs": [
    {
     "data": {
      "text/plain": [
       "['klein', 21, 155, 170, 'klein']"
      ]
     },
     "execution_count": 111,
     "metadata": {},
     "output_type": "execute_result"
    }
   ],
   "source": [
    "bio_data"
   ]
  },
  {
   "cell_type": "code",
   "execution_count": 113,
   "id": "a000ebc6",
   "metadata": {},
   "outputs": [
    {
     "data": {
      "text/plain": [
       "{155, 170, 21, 'klein'}"
      ]
     },
     "execution_count": 113,
     "metadata": {},
     "output_type": "execute_result"
    }
   ],
   "source": [
    "set(bio_data)"
   ]
  },
  {
   "cell_type": "code",
   "execution_count": 115,
   "id": "8c84dbce",
   "metadata": {},
   "outputs": [],
   "source": [
    "bio_data_t=tuple(bio_data)"
   ]
  },
  {
   "cell_type": "code",
   "execution_count": 116,
   "id": "03d18af6",
   "metadata": {},
   "outputs": [
    {
     "data": {
      "text/plain": [
       "('klein', 21, 155, 170, 'klein')"
      ]
     },
     "execution_count": 116,
     "metadata": {},
     "output_type": "execute_result"
    }
   ],
   "source": [
    "bio_data_t"
   ]
  },
  {
   "cell_type": "code",
   "execution_count": 117,
   "id": "a2edfc17",
   "metadata": {},
   "outputs": [
    {
     "ename": "TypeError",
     "evalue": "'tuple' object does not support item assignment",
     "output_type": "error",
     "traceback": [
      "\u001b[0;31m---------------------------------------------------------------------------\u001b[0m",
      "\u001b[0;31mTypeError\u001b[0m                                 Traceback (most recent call last)",
      "Cell \u001b[0;32mIn [117], line 1\u001b[0m\n\u001b[0;32m----> 1\u001b[0m \u001b[43mbio_data_t\u001b[49m\u001b[43m[\u001b[49m\u001b[38;5;241;43m4\u001b[39;49m\u001b[43m]\u001b[49m\u001b[38;5;241m=\u001b[39m\u001b[38;5;124m\"\u001b[39m\u001b[38;5;124m041673638373\u001b[39m\u001b[38;5;124m\"\u001b[39m\n",
      "\u001b[0;31mTypeError\u001b[0m: 'tuple' object does not support item assignment"
     ]
    }
   ],
   "source": [
    "bio_data_t[4]=\"041673638373\""
   ]
  },
  {
   "cell_type": "code",
   "execution_count": 118,
   "id": "30a9894e",
   "metadata": {},
   "outputs": [
    {
     "data": {
      "text/plain": [
       "2"
      ]
     },
     "execution_count": 118,
     "metadata": {},
     "output_type": "execute_result"
    }
   ],
   "source": [
    "bio_data_t.count(\"klein\")"
   ]
  },
  {
   "cell_type": "code",
   "execution_count": 119,
   "id": "b2064077",
   "metadata": {},
   "outputs": [
    {
     "data": {
      "text/plain": [
       "2"
      ]
     },
     "execution_count": 119,
     "metadata": {},
     "output_type": "execute_result"
    }
   ],
   "source": [
    "bio_data_t.index(155)"
   ]
  },
  {
   "cell_type": "code",
   "execution_count": 120,
   "id": "9fe3d7f4",
   "metadata": {},
   "outputs": [
    {
     "data": {
      "text/plain": [
       "(155, 170, 'klein')"
      ]
     },
     "execution_count": 120,
     "metadata": {},
     "output_type": "execute_result"
    }
   ],
   "source": [
    "bio_data_t[2:]"
   ]
  },
  {
   "cell_type": "code",
   "execution_count": 122,
   "id": "7cc40848",
   "metadata": {},
   "outputs": [
    {
     "ename": "AttributeError",
     "evalue": "'tuple' object has no attribute 'reverse'",
     "output_type": "error",
     "traceback": [
      "\u001b[0;31m---------------------------------------------------------------------------\u001b[0m",
      "\u001b[0;31mAttributeError\u001b[0m                            Traceback (most recent call last)",
      "Cell \u001b[0;32mIn [122], line 1\u001b[0m\n\u001b[0;32m----> 1\u001b[0m \u001b[43mbio_data_t\u001b[49m\u001b[38;5;241;43m.\u001b[39;49m\u001b[43mreverse\u001b[49m() \u001b[38;5;66;03m# tuple cant change the values , state is preserved\u001b[39;00m\n",
      "\u001b[0;31mAttributeError\u001b[0m: 'tuple' object has no attribute 'reverse'"
     ]
    }
   ],
   "source": [
    "bio_data_t.reverse() # tuple cant change the values , state is preserved"
   ]
  },
  {
   "cell_type": "code",
   "execution_count": 123,
   "id": "10d6dab2",
   "metadata": {},
   "outputs": [
    {
     "ename": "TypeError",
     "evalue": "'tuple' object does not support item deletion",
     "output_type": "error",
     "traceback": [
      "\u001b[0;31m---------------------------------------------------------------------------\u001b[0m",
      "\u001b[0;31mTypeError\u001b[0m                                 Traceback (most recent call last)",
      "Cell \u001b[0;32mIn [123], line 1\u001b[0m\n\u001b[0;32m----> 1\u001b[0m \u001b[38;5;28;01mdel\u001b[39;00m \u001b[43mbio_data_t\u001b[49m\u001b[43m \u001b[49m\u001b[43m[\u001b[49m\u001b[38;5;241;43m3\u001b[39;49m\u001b[43m:\u001b[49m\u001b[43m]\u001b[49m\n",
      "\u001b[0;31mTypeError\u001b[0m: 'tuple' object does not support item deletion"
     ]
    }
   ],
   "source": [
    "del bio_data_t [3:]"
   ]
  },
  {
   "cell_type": "code",
   "execution_count": 127,
   "id": "8840fbdc",
   "metadata": {},
   "outputs": [
    {
     "data": {
      "text/plain": [
       "['klein', 21, 155, 170, 'klein']"
      ]
     },
     "execution_count": 127,
     "metadata": {},
     "output_type": "execute_result"
    }
   ],
   "source": [
    "list(bio_data_t)"
   ]
  },
  {
   "cell_type": "code",
   "execution_count": 128,
   "id": "4ad09c91",
   "metadata": {},
   "outputs": [],
   "source": [
    "biodata= list(bio_data_t)"
   ]
  },
  {
   "cell_type": "code",
   "execution_count": 129,
   "id": "d1a1ada5",
   "metadata": {},
   "outputs": [],
   "source": [
    "del biodata[3:]"
   ]
  },
  {
   "cell_type": "code",
   "execution_count": 130,
   "id": "a19a69b4",
   "metadata": {},
   "outputs": [
    {
     "data": {
      "text/plain": [
       "['klein', 21, 155]"
      ]
     },
     "execution_count": 130,
     "metadata": {},
     "output_type": "execute_result"
    }
   ],
   "source": [
    "biodata"
   ]
  },
  {
   "cell_type": "markdown",
   "id": "78804a0f",
   "metadata": {},
   "source": [
    "# set"
   ]
  },
  {
   "cell_type": "code",
   "execution_count": 131,
   "id": "10fdbde3",
   "metadata": {},
   "outputs": [],
   "source": [
    "name_list = [\"klein\",\"klein\",155,171,21]"
   ]
  },
  {
   "cell_type": "code",
   "execution_count": 132,
   "id": "f0125b65",
   "metadata": {},
   "outputs": [],
   "source": [
    "names_list = set(name_list)"
   ]
  },
  {
   "cell_type": "code",
   "execution_count": 133,
   "id": "f5679e18",
   "metadata": {},
   "outputs": [
    {
     "data": {
      "text/plain": [
       "{155, 171, 21, 'klein'}"
      ]
     },
     "execution_count": 133,
     "metadata": {},
     "output_type": "execute_result"
    }
   ],
   "source": [
    "names_list"
   ]
  },
  {
   "cell_type": "code",
   "execution_count": 135,
   "id": "1ce04786",
   "metadata": {},
   "outputs": [],
   "source": [
    "set_a={\"a\",\"b\"}\n",
    "set_b={\"c\",\"e\"}\n",
    "set_universal={\"a\",\"b\",\"c\",\"e\"}"
   ]
  },
  {
   "cell_type": "code",
   "execution_count": 137,
   "id": "a5bbe613",
   "metadata": {},
   "outputs": [
    {
     "data": {
      "text/plain": [
       "{'a', 'b'}"
      ]
     },
     "execution_count": 137,
     "metadata": {},
     "output_type": "execute_result"
    }
   ],
   "source": [
    "set_universal.intersection(set_a)"
   ]
  },
  {
   "cell_type": "markdown",
   "id": "08d6856f",
   "metadata": {},
   "source": [
    "## TASK-1\n",
    "- (part -1)create a student 'tuple' of names and apply all the methods we learned today\n",
    "- (part -2)create a student 'set' of names and apply all the methods that we learned today"
   ]
  },
  {
   "cell_type": "markdown",
   "id": "5bc7fad8",
   "metadata": {},
   "source": [
    "#### part-1\n"
   ]
  },
  {
   "cell_type": "code",
   "execution_count": 157,
   "id": "2ff98a82",
   "metadata": {},
   "outputs": [],
   "source": [
    "black_door= [\"klein\",\"captain\",\"seer\",\"leonard\",\"daly\",\"rozanne\",\"fry\",\"old neil\"]"
   ]
  },
  {
   "cell_type": "code",
   "execution_count": 158,
   "id": "50af3c29",
   "metadata": {},
   "outputs": [
    {
     "data": {
      "text/plain": [
       "list"
      ]
     },
     "execution_count": 158,
     "metadata": {},
     "output_type": "execute_result"
    }
   ],
   "source": [
    "type(black_door)"
   ]
  },
  {
   "cell_type": "code",
   "execution_count": 159,
   "id": "50cb4f75",
   "metadata": {},
   "outputs": [],
   "source": [
    "night_hawks=tuple(black_door)"
   ]
  },
  {
   "cell_type": "code",
   "execution_count": 160,
   "id": "a3843335",
   "metadata": {},
   "outputs": [
    {
     "data": {
      "text/plain": [
       "tuple"
      ]
     },
     "execution_count": 160,
     "metadata": {},
     "output_type": "execute_result"
    }
   ],
   "source": [
    "type(night_hawks)"
   ]
  },
  {
   "cell_type": "code",
   "execution_count": 161,
   "id": "b5a51b76",
   "metadata": {},
   "outputs": [
    {
     "data": {
      "text/plain": [
       "1"
      ]
     },
     "execution_count": 161,
     "metadata": {},
     "output_type": "execute_result"
    }
   ],
   "source": [
    "night_hawks.count(\"leonard\")"
   ]
  },
  {
   "cell_type": "code",
   "execution_count": 162,
   "id": "b4947e54",
   "metadata": {},
   "outputs": [
    {
     "data": {
      "text/plain": [
       "0"
      ]
     },
     "execution_count": 162,
     "metadata": {},
     "output_type": "execute_result"
    }
   ],
   "source": [
    "night_hawks.index(\"klein\")"
   ]
  },
  {
   "cell_type": "markdown",
   "id": "19a9f0d1",
   "metadata": {},
   "source": [
    "#### part-2"
   ]
  },
  {
   "cell_type": "code",
   "execution_count": 163,
   "id": "9ef3a194",
   "metadata": {},
   "outputs": [],
   "source": [
    "grey_fog=[\"klein\",\"justice\",\"hanged man\",\"seer\",\"sun\",\"magician\",\"world\"]"
   ]
  },
  {
   "cell_type": "code",
   "execution_count": 164,
   "id": "ef976a58",
   "metadata": {},
   "outputs": [],
   "source": [
    "tarot_club=set(grey_fog)"
   ]
  },
  {
   "cell_type": "code",
   "execution_count": 165,
   "id": "afe556ab",
   "metadata": {},
   "outputs": [],
   "source": [
    "blackthorn_company = set(black_door)\n"
   ]
  },
  {
   "cell_type": "code",
   "execution_count": 166,
   "id": "6b250ab3",
   "metadata": {},
   "outputs": [
    {
     "data": {
      "text/plain": [
       "set"
      ]
     },
     "execution_count": 166,
     "metadata": {},
     "output_type": "execute_result"
    }
   ],
   "source": [
    "type(blackthorn_company)"
   ]
  },
  {
   "cell_type": "code",
   "execution_count": 167,
   "id": "0ee15f0b",
   "metadata": {},
   "outputs": [
    {
     "data": {
      "text/plain": [
       "{'klein', 'seer'}"
      ]
     },
     "execution_count": 167,
     "metadata": {},
     "output_type": "execute_result"
    }
   ],
   "source": [
    "blackthorn_company.intersection(tarot_club)"
   ]
  },
  {
   "cell_type": "code",
   "execution_count": 168,
   "id": "119b00fd",
   "metadata": {},
   "outputs": [],
   "source": [
    "blackthorn_company.add(\"orianne\")"
   ]
  },
  {
   "cell_type": "code",
   "execution_count": 169,
   "id": "90c04dcb",
   "metadata": {},
   "outputs": [
    {
     "data": {
      "text/plain": [
       "{'captain',\n",
       " 'daly',\n",
       " 'fry',\n",
       " 'klein',\n",
       " 'leonard',\n",
       " 'old neil',\n",
       " 'orianne',\n",
       " 'rozanne',\n",
       " 'seer'}"
      ]
     },
     "execution_count": 169,
     "metadata": {},
     "output_type": "execute_result"
    }
   ],
   "source": [
    "blackthorn_company"
   ]
  },
  {
   "cell_type": "code",
   "execution_count": 170,
   "id": "3057b952",
   "metadata": {},
   "outputs": [
    {
     "data": {
      "text/plain": [
       "{'captain', 'daly', 'fry', 'leonard', 'old neil', 'orianne', 'rozanne'}"
      ]
     },
     "execution_count": 170,
     "metadata": {},
     "output_type": "execute_result"
    }
   ],
   "source": [
    "blackthorn_company.difference(tarot_club)"
   ]
  },
  {
   "cell_type": "code",
   "execution_count": 177,
   "id": "3f780822",
   "metadata": {},
   "outputs": [
    {
     "data": {
      "text/plain": [
       "'orianne'"
      ]
     },
     "execution_count": 177,
     "metadata": {},
     "output_type": "execute_result"
    }
   ],
   "source": [
    "blackthorn_company.pop()"
   ]
  },
  {
   "cell_type": "code",
   "execution_count": 178,
   "id": "316b2afa",
   "metadata": {},
   "outputs": [
    {
     "data": {
      "text/plain": [
       "{'captain', 'daly', 'leonard', 'old neil', 'rozanne', 'seer'}"
      ]
     },
     "execution_count": 178,
     "metadata": {},
     "output_type": "execute_result"
    }
   ],
   "source": [
    "blackthorn_company"
   ]
  },
  {
   "cell_type": "code",
   "execution_count": 182,
   "id": "5304a63b",
   "metadata": {},
   "outputs": [],
   "source": [
    "blackthorn_company.update()"
   ]
  },
  {
   "cell_type": "code",
   "execution_count": 183,
   "id": "a24c8d44",
   "metadata": {},
   "outputs": [
    {
     "data": {
      "text/plain": [
       "{'captain', 'daly', 'f', 'l', 'leonard', 'o', 'old neil', 'rozanne', 'seer'}"
      ]
     },
     "execution_count": 183,
     "metadata": {},
     "output_type": "execute_result"
    }
   ],
   "source": [
    "blackthorn_company"
   ]
  },
  {
   "cell_type": "markdown",
   "id": "ac8e0288",
   "metadata": {},
   "source": [
    "# END OF CLASS 4"
   ]
  },
  {
   "cell_type": "code",
   "execution_count": null,
   "id": "b214fd8b",
   "metadata": {},
   "outputs": [],
   "source": []
  }
 ],
 "metadata": {
  "kernelspec": {
   "display_name": "Python 3 (ipykernel)",
   "language": "python",
   "name": "python3"
  },
  "language_info": {
   "codemirror_mode": {
    "name": "ipython",
    "version": 3
   },
   "file_extension": ".py",
   "mimetype": "text/x-python",
   "name": "python",
   "nbconvert_exporter": "python",
   "pygments_lexer": "ipython3",
   "version": "3.11.2"
  }
 },
 "nbformat": 4,
 "nbformat_minor": 5
}
