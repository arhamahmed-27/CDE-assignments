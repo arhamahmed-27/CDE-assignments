{
 "cells": [
  {
   "cell_type": "markdown",
   "metadata": {},
   "source": [
    "1) A company decided to give bonus of 5% to employee if his/her year of service is more than 5 years.\n",
    "Ask user for their salary and year of service and print the net bonus amount."
   ]
  },
  {
   "cell_type": "code",
   "execution_count": 1,
   "metadata": {},
   "outputs": [
    {
     "name": "stdout",
     "output_type": "stream",
     "text": [
      "enter your salary500000\n",
      "enter your years of service7\n",
      "congrats you are eligible , the net bonus is  25000.0\n"
     ]
    }
   ],
   "source": [
    "salary=int(input(\"enter your salary\"))\n",
    "years=int(input(\"enter your years of service\"))\n",
    "if(years>5):\n",
    "    print(\"congrats you are eligible , the net bonus is \",salary*0.05)\n",
    "else:\n",
    "    print(\"sorry , you are not eligible \")\n",
    "    "
   ]
  },
  {
   "cell_type": "markdown",
   "metadata": {},
   "source": [
    "\n",
    "2) Write a program to check whether a person is eligible for voting or not. (accept age from user) if age is greater than 17 eligible otherwise not eligible"
   ]
  },
  {
   "cell_type": "code",
   "execution_count": 2,
   "metadata": {},
   "outputs": [
    {
     "name": "stdout",
     "output_type": "stream",
     "text": [
      "enter your age19\n",
      "you are eligible for voting \n"
     ]
    }
   ],
   "source": [
    "age=int(input(\"enter your age\"))\n",
    "if(age>17):\n",
    "    print(\"you are eligible for voting \")\n",
    "else:\n",
    "    print(\"you are not eligible for voting\")\n",
    "    "
   ]
  },
  {
   "cell_type": "markdown",
   "metadata": {},
   "source": [
    "\n",
    "3) Write a program to check whether a number entered by user is even or odd."
   ]
  },
  {
   "cell_type": "code",
   "execution_count": 3,
   "metadata": {},
   "outputs": [
    {
     "name": "stdout",
     "output_type": "stream",
     "text": [
      "enter a number to check if even or odd7\n",
      "odd\n"
     ]
    }
   ],
   "source": [
    "c=int(input(\"enter a number to check if even or odd\"))\n",
    "if(c%2==0):\n",
    "    print(\"even\")\n",
    "else:\n",
    "    print(\"odd\")\n",
    "    "
   ]
  },
  {
   "cell_type": "markdown",
   "metadata": {},
   "source": [
    "4) Write a program to check whether a number is divisible by 7 or not.\n",
    "Show Answer"
   ]
  },
  {
   "cell_type": "code",
   "execution_count": 4,
   "metadata": {},
   "outputs": [
    {
     "name": "stdout",
     "output_type": "stream",
     "text": [
      "enter a number is divisible by seven 8\n",
      "no its not\n"
     ]
    }
   ],
   "source": [
    "d=int(input(\"enter a number is divisible by seven \"))\n",
    "if(d%7==0):\n",
    "    print(\"yes,it is divisible\")\n",
    "else:\n",
    "    print(\"no its not\")\n",
    "    "
   ]
  },
  {
   "cell_type": "markdown",
   "metadata": {},
   "source": [
    "5) Write a program to display \n",
    "\"Hello\" if a number entered by user is a multiple of five , otherwise print \"Bye\"."
   ]
  },
  {
   "cell_type": "code",
   "execution_count": 5,
   "metadata": {},
   "outputs": [
    {
     "name": "stdout",
     "output_type": "stream",
     "text": [
      "enter a number is divisible by five 10\n",
      "\"hello\"\n"
     ]
    }
   ],
   "source": [
    "e=int(input(\"enter a number is divisible by five \"))\n",
    "if(e%5==0):\n",
    "    print('\"hello\"')\n",
    "else:\n",
    "    print(\"bye\")\n",
    "    "
   ]
  },
  {
   "cell_type": "markdown",
   "metadata": {},
   "source": [
    "7) Write a program to display the last digit of a number.\n"
   ]
  },
  {
   "cell_type": "code",
   "execution_count": 6,
   "metadata": {},
   "outputs": [
    {
     "name": "stdout",
     "output_type": "stream",
     "text": [
      "enter a number to display the last digit109\n",
      "9\n"
     ]
    }
   ],
   "source": [
    "f=int(input(\"enter a number to display the last digit\"))\n",
    "g=(f%10)\n",
    "print(g)\n"
   ]
  },
  {
   "cell_type": "markdown",
   "metadata": {},
   "source": [
    "9) Take values of length and breadth of a rectangle from user and print if it is square or rectangle."
   ]
  },
  {
   "cell_type": "code",
   "execution_count": 7,
   "metadata": {},
   "outputs": [
    {
     "name": "stdout",
     "output_type": "stream",
     "text": [
      "enter the length of the parallelogram7\n",
      "enter the breadthof the parallelogram9\n"
     ]
    }
   ],
   "source": [
    "l=float(input(\"enter the length of the parallelogram\"))\n",
    "b=float(input(\"enter the breadthof the parallelogram\"))\n",
    "if(l==b):\n",
    "    print(\"the given shape is a square\")\n",
    "else:(\"the given shape is a rectangle\")\n"
   ]
  },
  {
   "cell_type": "markdown",
   "metadata": {},
   "source": [
    "10) Take two int values from user and print greatest among them."
   ]
  },
  {
   "cell_type": "code",
   "execution_count": 8,
   "metadata": {},
   "outputs": [
    {
     "name": "stdout",
     "output_type": "stream",
     "text": [
      "enter a number6\n",
      "enter another number8\n",
      "the greatest number is 8 \n"
     ]
    }
   ],
   "source": [
    "h=int(input(\"enter a number\"))\n",
    "i=int(input(\"enter another number\"))\n",
    "if (h>i):\n",
    "    print(f\"the greatest number is  {h} \")\n",
    "else:\n",
    "    print(f\"the greatest number is {i} \")"
   ]
  },
  {
   "cell_type": "markdown",
   "metadata": {},
   "source": [
    "11) A shop will give discount of 10% if the cost of purchased quantity is more than 1000.\n",
    "Ask user for quantity\n",
    "Suppose, one unit will cost 100.\n",
    "Judge and print total cost for user."
   ]
  },
  {
   "cell_type": "code",
   "execution_count": 10,
   "metadata": {},
   "outputs": [
    {
     "name": "stdout",
     "output_type": "stream",
     "text": [
      "enter the number of football purchased7\n",
      "no discount available \n"
     ]
    }
   ],
   "source": [
    "football=(200)\n",
    "n=int(input(\"enter the number of football purchased\"))\n",
    "j=(f*n)\n",
    "if(j>1000):\n",
    "    print(\"the discount avaible on the total cost is \", j*0.10)\n",
    "else:\n",
    "    print(\"no discount available \")"
   ]
  },
  {
   "cell_type": "markdown",
   "metadata": {},
   "source": [
    "12) A school has following rules for grading system:\n",
    "\n",
    "a. Below 25 - F\n",
    "\n",
    "b. 25 to 45 - E\n",
    "\n",
    "c. 45 to 50 - D\n",
    "\n",
    "d. 50 to 60 - C\n",
    "\n",
    "e. 60 to 80 - B\n",
    "\n",
    "f. Above 80 - A\n",
    "\n",
    "Ask user to enter marks and print the corresponding grade."
   ]
  },
  {
   "cell_type": "code",
   "execution_count": 11,
   "metadata": {},
   "outputs": [
    {
     "name": "stdout",
     "output_type": "stream",
     "text": [
      "Enter the marks for appraisal: 78\n",
      "Grade B\n"
     ]
    }
   ],
   "source": [
    "o = int(input(\"Enter the marks for appraisal: \"))\n",
    "\n",
    "if o > 80:\n",
    "    print(\"Grade A\")\n",
    "elif o >= 70:\n",
    "    print(\"Grade B\")\n",
    "elif o >= 60:\n",
    "    print(\"Grade C\")\n",
    "elif o >= 50:\n",
    "    print(\"Grade D\")\n",
    "elif o >= 40:\n",
    "    print(\"Grade E\")\n",
    "elif o >= 25:\n",
    "    print(\"Grade F\")\n",
    "else:\n",
    "    print(\"Fail\")\n"
   ]
  },
  {
   "cell_type": "markdown",
   "metadata": {},
   "source": [
    "14)A student will not be allowed to sit in exam if his/her attendence is less than 75%.\n",
    "\n",
    "Take following input from user\n",
    "\n",
    "Number of classes held\n",
    "\n",
    "Number of classes attended.\n",
    "\n",
    "And print\n",
    "\n",
    "percentage of class attended\n",
    "\n",
    "Is student is allowed to sit in exam or not.\n"
   ]
  },
  {
   "cell_type": "code",
   "execution_count": 13,
   "metadata": {},
   "outputs": [
    {
     "name": "stdout",
     "output_type": "stream",
     "text": [
      "the number of classes held34\n",
      "the number of classes attended25\n",
      "the attendance percentage of the student is 73%\n",
      "the student is not allowed to sit in exam\n"
     ]
    }
   ],
   "source": [
    "n=int(input(\"the number of classes held\"))\n",
    "t=int(input(\"the number of classes attended\"))\n",
    "p=int((t/n)*100)\n",
    "print(f\"the attendance percentage of the student is {p}%\")\n",
    "if p>=75:\n",
    "    print(\"the student is allowed to sit in exam\")\n",
    "else:\n",
    "    print(\"the student is not allowed to sit in exam\")\n"
   ]
  },
  {
   "cell_type": "markdown",
   "metadata": {},
   "source": [
    "15) Modify the above question to allow student to sit if he/she has medical cause. Ask user if he/she has medical cause or not ( 'Y' or 'N' ) and print accordingly."
   ]
  },
  {
   "cell_type": "code",
   "execution_count": 14,
   "metadata": {},
   "outputs": [
    {
     "name": "stdout",
     "output_type": "stream",
     "text": [
      "the number of classes held43\n",
      "the number of classes attended56\n",
      "if there is a medical cause to your absence press 'y' else 'n'n\n",
      "the attendance percentage of the student is 130%\n",
      "the student is allowed to sit in exam\n"
     ]
    }
   ],
   "source": [
    "n=int(input(\"the number of classes held\"))\n",
    "t=int(input(\"the number of classes attended\"))\n",
    "k=(\"y\")\n",
    "p=int((t/n)*100)\n",
    "l=input(\"if there is a medical cause to your absence press 'y' else 'n'\")\n",
    "print(f\"the attendance percentage of the student is {p}%\")\n",
    "if p>=75 or k==\"y\":\n",
    "    print(\"the student is allowed to sit in exam\")\n",
    "else:\n",
    "    print(\"the student is not allowed to sit in exam\")"
   ]
  },
  {
   "cell_type": "markdown",
   "metadata": {},
   "source": [
    "16) Write a program to check if a year is leap year or not.\n",
    "\n",
    "If a year is divisible by 4 then it is leap year but if the year is century year like 2000, 1900, 2100 then it must be divisible by 400."
   ]
  },
  {
   "cell_type": "code",
   "execution_count": 15,
   "metadata": {},
   "outputs": [
    {
     "name": "stdout",
     "output_type": "stream",
     "text": [
      "enter the year to check if leap or not2100\n",
      "not a leap year\n"
     ]
    }
   ],
   "source": [
    "\n",
    "y=int(input(\"enter the year to check if leap or not\"))\n",
    "if y%100==0:\n",
    "    if y%400==0:\n",
    "        print(\"leap year\")\n",
    "    else:\n",
    "        print(\"not a leap year\")\n",
    "else:\n",
    "    if y%4==0:\n",
    "        print(\"leap year\")\n",
    "    else:print(\"not a leap year\")"
   ]
  },
  {
   "cell_type": "markdown",
   "metadata": {},
   "source": [
    "17) Ask user to enter age, gender ( M or F ), marital status ( Y or N ) and then using following rules print their place of service.\n",
    "\n",
    "if employee is female, then she will work only in urban areas.\n",
    "\n",
    "if employee is a male and age is in between 20 to 40 then he may work in anywhere\n",
    "\n",
    "if employee is male and age is in between 40 t0 60 then he will work in urban areas only.\n",
    "\n",
    "And any other input of age should print \"ERROR\""
   ]
  },
  {
   "cell_type": "code",
   "execution_count": 18,
   "metadata": {},
   "outputs": [
    {
     "name": "stdout",
     "output_type": "stream",
     "text": [
      "enter your age  36\n",
      "enter M for male and F for female  M\n",
      "you can work any where\n"
     ]
    }
   ],
   "source": [
    "age=int(input(\"enter your age  \"))\n",
    "gender=input(\"enter M for male and F for female  \")\n",
    "if gender==(\"F\"):\n",
    "    print(\"you will work in urban areas only\")\n",
    "elif gender==(\"M\"):\n",
    "    if age>=(20) and age<=(40):\n",
    "        print(\"you can work any where\")\n",
    "    elif  age>=(40) and age<=(60):\n",
    "        print(\"you can work in urban areas only\")\n",
    "    else:\n",
    "        print(\"error\")"
   ]
  },
  {
   "cell_type": "markdown",
   "metadata": {},
   "source": [
    "6) Write a program to calculate the electricity bill (accept number of unit from user) according to the following criteria :\n",
    "     Unit                                                     Price  \n",
    "uptp 100 units                                             no charge\n",
    "Next 200 units                                              Rs 5 per unit\n",
    "After 200 units                                             Rs 10 per unit\n",
    "(For example if input unit is 350 than total bill amount is Rs.3500\n",
    "(For example if input unit is 97 than total bill amount is Rs.0\n",
    "(For example if input unit is 150 than total bill amount is Rs.750"
   ]
  },
  {
   "cell_type": "code",
   "execution_count": 19,
   "metadata": {},
   "outputs": [
    {
     "name": "stdout",
     "output_type": "stream",
     "text": [
      "enter the units consumed78\n",
      "the total bill is Rs.0\n"
     ]
    }
   ],
   "source": [
    "units=int(input(\"enter the units consumed\"))\n",
    "if units<=100:\n",
    "    print(\"the total bill is Rs.0\")\n",
    "elif units<=200:\n",
    "    print(\"the total bill is Rs. \",units*5)\n",
    "else:\n",
    "    print(\"the total bill is \",units*10)"
   ]
  },
  {
   "cell_type": "markdown",
   "metadata": {},
   "source": [
    "13) Take input of age of 3 people by user and determine oldest and youngest among them."
   ]
  },
  {
   "cell_type": "code",
   "execution_count": 20,
   "metadata": {},
   "outputs": [
    {
     "name": "stdout",
     "output_type": "stream",
     "text": [
      "enter the age of p1  23\n",
      "enter the age of p2  32\n",
      "enter the age of p3  19\n",
      "the eldest is p2\n",
      "the youngest is p3\n"
     ]
    }
   ],
   "source": [
    "p1=int(input(\"enter the age of p1  \"))\n",
    "p2=int(input(\"enter the age of p2  \"))\n",
    "p3=int(input(\"enter the age of p3  \"))\n",
    "if p1>p2 and p2>p3:\n",
    "    print(\"the eldest is p1\")\n",
    "elif p2>p1 and p2>p3:\n",
    "    print(\"the eldest is p2\")\n",
    "else:\n",
    "    print(\"the eldest is p3\")\n",
    "    \n",
    "if p1<p2 and p2<p3:\n",
    "    print(\"the youngest is p1\")\n",
    "elif p2<p1 and p2<p3:\n",
    "    print(\"the youngest is p2\")\n",
    "else:\n",
    "    print(\"the youngest is p3\") "
   ]
  }
 ],
 "metadata": {
  "kernelspec": {
   "display_name": "Python 3 (ipykernel)",
   "language": "python",
   "name": "python3"
  },
  "language_info": {
   "codemirror_mode": {
    "name": "ipython",
    "version": 3
   },
   "file_extension": ".py",
   "mimetype": "text/x-python",
   "name": "python",
   "nbconvert_exporter": "python",
   "pygments_lexer": "ipython3",
   "version": "3.11.2"
  }
 },
 "nbformat": 4,
 "nbformat_minor": 2
}
