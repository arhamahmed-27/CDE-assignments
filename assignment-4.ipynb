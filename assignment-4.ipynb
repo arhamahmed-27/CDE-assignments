{
 "cells": [
  {
   "cell_type": "markdown",
   "id": "d8e59b3d",
   "metadata": {},
   "source": [
    "# ASSIGNMENT #4 LISTS"
   ]
  },
  {
   "cell_type": "markdown",
   "id": "07161125",
   "metadata": {},
   "source": [
    "1. Write a program that accepts a list from user and print the alternate element of list."
   ]
  },
  {
   "cell_type": "code",
   "execution_count": 1,
   "id": "85992c48",
   "metadata": {},
   "outputs": [
    {
     "name": "stdout",
     "output_type": "stream",
     "text": [
      "Enter list elements separated by spaces: hello my name is arham\n",
      "Alternate elements: ['hello', 'name', 'arham']\n"
     ]
    }
   ],
   "source": [
    "fruit = input(\"Enter list elements separated by spaces: \")\n",
    "lst = fruit.split()\n",
    "print(\"Alternate elements:\", lst[::2])"
   ]
  },
  {
   "cell_type": "markdown",
   "id": "ebdee7d2",
   "metadata": {},
   "source": [
    "2.Write a program that accepts a list from user. Your program should reverse the content of list and display it. Do not use reverse() method."
   ]
  },
  {
   "cell_type": "code",
   "execution_count": 5,
   "id": "114550fa",
   "metadata": {},
   "outputs": [
    {
     "name": "stdout",
     "output_type": "stream",
     "text": [
      "Enter list elements separated by spaces: hello my name is arham\n",
      "Reversed: ['arham', 'is', 'name', 'my', 'hello']\n"
     ]
    }
   ],
   "source": [
    "apple = input(\"Enter list elements separated by spaces: \")\n",
    "lst = apple.split()\n",
    "\n",
    "\n",
    "i, j = 0, len(lst) - 1\n",
    "while i < j:\n",
    "    \n",
    "    lst[i], lst[j] = lst[j], lst[i]\n",
    "    i += 1\n",
    "    j -= 1\n",
    "\n",
    "print(\"Reversed:\", lst)"
   ]
  },
  {
   "cell_type": "markdown",
   "id": "8ad9bdc8",
   "metadata": {},
   "source": [
    "3.Find and display the largest number of a list without using built-in function max(). Your program should ask the user to input values in list from keyboard."
   ]
  },
  {
   "cell_type": "code",
   "execution_count": 10,
   "id": "32d84526",
   "metadata": {},
   "outputs": [
    {
     "name": "stdout",
     "output_type": "stream",
     "text": [
      "Enter numbers separated by spaces: 3 4 6 10 9\n",
      "Largest: 10\n"
     ]
    }
   ],
   "source": [
    "raw = input(\"Enter numbers separated by spaces: \")\n",
    "nums = [float(x) for x in raw.split()]\n",
    "\n",
    "\n",
    "\n",
    "\n",
    "if not nums:\n",
    "    print(\"List is empty.\")\n",
    "else:\n",
    "    largest = nums[0]\n",
    "for x in nums[1:]:\n",
    "    if x > largest:\n",
    "        largest = x\n",
    "print(\"Largest:\", int(largest))"
   ]
  },
  {
   "cell_type": "markdown",
   "id": "078cd583",
   "metadata": {},
   "source": [
    "4.Write a program that rotates the element of a list so that the element at the first index moves to the second index, the element in the second index moves to the third index, etc., and the element in the last index moves to the first index."
   ]
  },
  {
   "cell_type": "code",
   "execution_count": 15,
   "id": "285cbf97",
   "metadata": {},
   "outputs": [
    {
     "name": "stdout",
     "output_type": "stream",
     "text": [
      "Enter list elements separated by spaces: tsktsktsk I am\n",
      "Rotated: ['am', 'I', 'I']\n",
      "Rotated: ['am', 'am', 'I']\n"
     ]
    }
   ],
   "source": [
    "dim = input(\"Enter list elements separated by spaces: \")\n",
    "lst = dim.split()\n",
    "\n",
    "\n",
    "if lst:\n",
    "    last = lst[-1]\n",
    "for i in range(len(lst) - 1, 0, -1):\n",
    "    lst[i] = lst[i - 1]\n",
    "    lst[0] = last\n",
    "    print(\"Rotated:\", lst)"
   ]
  },
  {
   "cell_type": "markdown",
   "id": "d49c3de2",
   "metadata": {},
   "source": [
    "5.Write a program that input a string and ask user to delete a given word from a string."
   ]
  },
  {
   "cell_type": "code",
   "execution_count": 16,
   "id": "f1887203",
   "metadata": {},
   "outputs": [
    {
     "name": "stdout",
     "output_type": "stream",
     "text": [
      "Enter a sentence: I am not a good boy\n",
      "Enter the word to delete: not\n",
      "Result: I am a good boy\n"
     ]
    }
   ],
   "source": [
    "sentence = input(\"Enter a sentence: \")\n",
    "word = input(\"Enter the word to delete: \")\n",
    "\n",
    "\n",
    "words = sentence.split()\n",
    "result = [w for w in words if w.lower() != word.lower()]\n",
    "\n",
    "\n",
    "print(\"Result:\", \" \".join(result))"
   ]
  },
  {
   "cell_type": "markdown",
   "id": "be2ec107",
   "metadata": {},
   "source": [
    "6.Write a program that reads a string from the user containing a date in the form mm/dd/yyyy. It should print the date in the form March 12, 2021"
   ]
  },
  {
   "cell_type": "code",
   "execution_count": 17,
   "id": "6d26f389",
   "metadata": {},
   "outputs": [
    {
     "name": "stdout",
     "output_type": "stream",
     "text": [
      "Enter a date (mm/dd/yyyy): 07/27/2006\n",
      "July 27, 2006\n"
     ]
    }
   ],
   "source": [
    "months = [\"January\", \"February\", \"March\", \"April\", \"May\", \"June\",\n",
    "\"July\", \"August\", \"September\", \"October\", \"November\", \"December\"]\n",
    "\n",
    "\n",
    "s = input(\"Enter a date (mm/dd/yyyy): \")\n",
    "mm, dd, yyyy = s.split(\"/\")\n",
    "print(f\"{months[int(mm)-1]} {int(dd)}, {yyyy}\")"
   ]
  },
  {
   "cell_type": "markdown",
   "id": "6ff64015",
   "metadata": {},
   "source": [
    "7.Write a program with a function that accepts a string from keyboard and create a new string after converting character of each word capitalized. For instance, if the sentence is \"stop and smell the roses.\" the output should be \"Stop And Smell The Roses\""
   ]
  },
  {
   "cell_type": "code",
   "execution_count": 18,
   "id": "ee99c635",
   "metadata": {},
   "outputs": [
    {
     "name": "stdout",
     "output_type": "stream",
     "text": [
      "Enter a sentence: sequence 8 clown\n",
      "Sequence 8 Clown\n"
     ]
    }
   ],
   "source": [
    "text = input(\"Enter a sentence: \")\n",
    "print(text.title())"
   ]
  },
  {
   "cell_type": "markdown",
   "id": "2b0dcdfe",
   "metadata": {},
   "source": [
    "8.Find the sum of each row of matrix of size m x n. For example for the following matrix output will be like this : Sum of row 1 = 32 Sum of row 2 = 31 Sum of row 3 = 63"
   ]
  },
  {
   "cell_type": "code",
   "execution_count": 20,
   "id": "8ce9a796",
   "metadata": {},
   "outputs": [
    {
     "name": "stdout",
     "output_type": "stream",
     "text": [
      "Enter number of rows (m): 3\n",
      "Enter number of columns (n): 3\n",
      "Enter row 1: 1 2 3\n",
      "Enter row 2: 1 2 3\n",
      "Enter row 3: 1 2 3\n",
      "Sum of row 1 = 6.0\n",
      "Sum of row 2 = 6.0\n",
      "Sum of row 3 = 6.0\n"
     ]
    }
   ],
   "source": [
    "m = int(input(\"Enter number of rows (m): \"))\n",
    "n = int(input(\"Enter number of columns (n): \"))\n",
    "\n",
    "\n",
    "matrix = []\n",
    "for i in range(m):\n",
    "    row = [float(x) for x in input(f\"Enter row {i+1}: \").split()]\n",
    "    matrix.append(row)\n",
    "\n",
    "\n",
    "for i, row in enumerate(matrix, start=1):\n",
    "    print(f\"Sum of row {i} = {sum(row)}\")"
   ]
  },
  {
   "cell_type": "markdown",
   "id": "345c01fd",
   "metadata": {},
   "source": [
    "9.Write a program to add two matrices of size n x m."
   ]
  },
  {
   "cell_type": "code",
   "execution_count": 21,
   "id": "887f5800",
   "metadata": {},
   "outputs": [
    {
     "name": "stdout",
     "output_type": "stream",
     "text": [
      "Enter number of rows (n): 3\n",
      "Enter number of columns (m): 2\n",
      "Enter Matrix A:\n",
      "1 2 3\n",
      "2 3 4\n",
      "4 5 6\n",
      "Enter Matrix B:\n",
      "1 2 3 \n",
      "1 2 3 \n",
      "3 4 5\n",
      "A + B =\n",
      "2.0 4.0\n",
      "3.0 5.0\n",
      "7.0 9.0\n"
     ]
    }
   ],
   "source": [
    "n = int(input(\"Enter number of rows (n): \"))\n",
    "m = int(input(\"Enter number of columns (m): \"))\n",
    "\n",
    "\n",
    "print(\"Enter Matrix A:\")\n",
    "A = [list(map(float, input().split())) for _ in range(n)]\n",
    "print(\"Enter Matrix B:\")\n",
    "B = [list(map(float, input().split())) for _ in range(n)]\n",
    "\n",
    "\n",
    "C = [[A[i][j] + B[i][j] for j in range(m)] for i in range(n)]\n",
    "\n",
    "\n",
    "print(\"A + B =\")\n",
    "for row in C:\n",
    "    print(*row)"
   ]
  },
  {
   "cell_type": "markdown",
   "id": "ccb27312",
   "metadata": {},
   "source": [
    "10.Write a program to multiply two matrices"
   ]
  },
  {
   "cell_type": "code",
   "execution_count": 28,
   "id": "177a8e18",
   "metadata": {
    "scrolled": true
   },
   "outputs": [
    {
     "name": "stdout",
     "output_type": "stream",
     "text": [
      "Enter rows and cols of A: 2 3\n",
      "1 2 3\n",
      "4 5 6\n",
      "Enter rows and cols of B: 3 2\n",
      "7 8\n",
      "9 10\n",
      "11 12\n",
      "A × B =\n",
      "58.0 64.0\n",
      "139.0 154.0\n"
     ]
    }
   ],
   "source": [
    "r1, c1 = map(int, input(\"Enter rows and cols of A: \").split())\n",
    "A = [list(map(float, input().split())) for _ in range(r1)]\n",
    "\n",
    "\n",
    "r2, c2 = map(int, input(\"Enter rows and cols of B: \").split())\n",
    "B = [list(map(float, input().split())) for _ in range(r2)]\n",
    "\n",
    "\n",
    "if c1 != r2:\n",
    "    print(\"Cannot multiply: columns of A must equal rows of B\")\n",
    "else:\n",
    "    C = [[sum(A[i][k] * B[k][j] for k in range(c1)) for j in range(c2)] for i in range(r1)]\n",
    "    print(\"A × B =\")\n",
    "for row in C:\n",
    "    print(*row)"
   ]
  }
 ],
 "metadata": {
  "kernelspec": {
   "display_name": "Python 3 (ipykernel)",
   "language": "python",
   "name": "python3"
  },
  "language_info": {
   "codemirror_mode": {
    "name": "ipython",
    "version": 3
   },
   "file_extension": ".py",
   "mimetype": "text/x-python",
   "name": "python",
   "nbconvert_exporter": "python",
   "pygments_lexer": "ipython3",
   "version": "3.11.2"
  }
 },
 "nbformat": 4,
 "nbformat_minor": 5
}
