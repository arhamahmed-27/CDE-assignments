{
 "cells": [
  {
   "cell_type": "markdown",
   "metadata": {},
   "source": [
    "# ASSIGNMENT #6 classes :>"
   ]
  },
  {
   "cell_type": "markdown",
   "metadata": {
    "id": "XLFr4w_7OFN7"
   },
   "source": [
    "1. Write a Python program to create a class representing a Circle. Include methods to calculate its area and perimeter."
   ]
  },
  {
   "cell_type": "code",
   "execution_count": 40,
   "metadata": {},
   "outputs": [],
   "source": [
    "class circle():\n",
    "    def __init__ (self,radius):\n",
    "        self.radius=radius\n",
    "    def area(self):\n",
    "        print(f\"the area of the circle is {(3.14*(self.radius**2))}\")\n",
    "    def perimeter(self):\n",
    "        print(f\"the perimeter of the circle is {2*3.14*self.radius}\")\n",
    "              \n",
    "        "
   ]
  },
  {
   "cell_type": "code",
   "execution_count": 41,
   "metadata": {},
   "outputs": [
    {
     "name": "stdout",
     "output_type": "stream",
     "text": [
      "the area of the circle is 12.56\n",
      "the perimeter of the circle is 12.56\n"
     ]
    }
   ],
   "source": [
    "cle=circle(2)\n",
    "cle.area()\n",
    "cle.perimeter()"
   ]
  },
  {
   "cell_type": "markdown",
   "metadata": {
    "id": "CBPk4mH4OTCO"
   },
   "source": [
    "2. Write a Python program to create a person class. Include attributes like name, country and date of birth. Implement a method to determine the person's age.\n"
   ]
  },
  {
   "cell_type": "code",
   "execution_count": 42,
   "metadata": {},
   "outputs": [],
   "source": [
    "class person():\n",
    "    def __init__(self,name,country,dob,year):\n",
    "        self.name=name\n",
    "        self.country=country\n",
    "        self.dob=dob\n",
    "        self.year=year\n",
    "    def age(self):\n",
    "        age=self.year-self.dob\n",
    "        return age"
   ]
  },
  {
   "cell_type": "code",
   "execution_count": 43,
   "metadata": {},
   "outputs": [
    {
     "data": {
      "text/plain": [
       "19"
      ]
     },
     "execution_count": 43,
     "metadata": {},
     "output_type": "execute_result"
    }
   ],
   "source": [
    "arham=person(\"arham\",\"pakistan\",2006,2025)\n",
    "arham.age()"
   ]
  },
  {
   "cell_type": "markdown",
   "metadata": {},
   "source": [
    "3. Write a Python program to create a calculator class. Include methods for basic arithmetic operations."
   ]
  },
  {
   "cell_type": "code",
   "execution_count": 44,
   "metadata": {},
   "outputs": [],
   "source": [
    "class calculator():\n",
    "    def __init__(self,num1,num2):\n",
    "        self.num1=num1\n",
    "        self.num2=num2\n",
    "    def add(self):\n",
    "        return self.num1+self.num2\n",
    "    def subtract(self):\n",
    "        return self.num1-self.num2\n",
    "    def multiply(self):\n",
    "        return self.num1*self.num2\n",
    "    def divide(self):\n",
    "        if self.num2==0:\n",
    "            return \"error , dividision by zero\"\n",
    "        else:\n",
    "            return self.num1/self.num2"
   ]
  },
  {
   "cell_type": "code",
   "execution_count": 45,
   "metadata": {},
   "outputs": [
    {
     "name": "stdout",
     "output_type": "stream",
     "text": [
      "5\n",
      "-1\n",
      "6\n",
      "0.6666666666666666\n"
     ]
    }
   ],
   "source": [
    "operation=calculator(2,3)\n",
    "print(operation.add())\n",
    "print(operation.subtract())\n",
    "print(operation.multiply())\n",
    "print(operation.divide())\n",
    "\n"
   ]
  }
 ],
 "metadata": {
  "colab": {
   "provenance": []
  },
  "kernelspec": {
   "display_name": "Python 3 (ipykernel)",
   "language": "python",
   "name": "python3"
  },
  "language_info": {
   "codemirror_mode": {
    "name": "ipython",
    "version": 3
   },
   "file_extension": ".py",
   "mimetype": "text/x-python",
   "name": "python",
   "nbconvert_exporter": "python",
   "pygments_lexer": "ipython3",
   "version": "3.11.2"
  }
 },
 "nbformat": 4,
 "nbformat_minor": 1
}
