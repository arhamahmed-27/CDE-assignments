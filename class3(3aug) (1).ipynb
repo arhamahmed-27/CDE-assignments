{
 "cells": [
  {
   "cell_type": "markdown",
   "id": "2cc661b6",
   "metadata": {},
   "source": [
    "# concatenation using user input"
   ]
  },
  {
   "cell_type": "code",
   "execution_count": 1,
   "id": "1b6b204e",
   "metadata": {},
   "outputs": [
    {
     "name": "stdout",
     "output_type": "stream",
     "text": [
      "enter your fname :arham\n",
      "enter your lname :ahmed\n",
      "enter your mname : \n"
     ]
    }
   ],
   "source": [
    "fname= input(\"enter your fname :\")\n",
    "lname= input(\"enter your lname :\")\n",
    "mname= input(\"enter your mname :\")"
   ]
  },
  {
   "cell_type": "code",
   "execution_count": 2,
   "id": "3e5de1ca",
   "metadata": {},
   "outputs": [],
   "source": [
    "fullname = fname + \" \" + mname + \" \"+ lname "
   ]
  },
  {
   "cell_type": "code",
   "execution_count": 3,
   "id": "0b6b8d53",
   "metadata": {},
   "outputs": [
    {
     "name": "stdout",
     "output_type": "stream",
     "text": [
      "hello my name is  arham   ahmed and i am a student\n"
     ]
    }
   ],
   "source": [
    "print (\"hello my name is \" ,fullname, \"and i am a student\") # first method"
   ]
  },
  {
   "cell_type": "code",
   "execution_count": null,
   "id": "63de5ec9",
   "metadata": {},
   "outputs": [],
   "source": []
  },
  {
   "cell_type": "code",
   "execution_count": 4,
   "id": "7485cfd5",
   "metadata": {},
   "outputs": [
    {
     "name": "stdout",
     "output_type": "stream",
     "text": [
      " hello my name is arham   ahmed and i am a student\n"
     ]
    }
   ],
   "source": [
    "print (f\" hello my name is {fname} {mname} {lname} and i am a student\")  #second method   "
   ]
  },
  {
   "cell_type": "code",
   "execution_count": 5,
   "id": "2dbd3a1f",
   "metadata": {},
   "outputs": [
    {
     "name": "stdout",
     "output_type": "stream",
     "text": [
      " hello my name is arham   ahmed and i am a student\n"
     ]
    }
   ],
   "source": [
    "print ( \" hello my name is {} {} {} and i am a student\". format (fname,mname,lname)) # third method"
   ]
  },
  {
   "cell_type": "markdown",
   "id": "0ff454f2",
   "metadata": {},
   "source": [
    "# user input"
   ]
  },
  {
   "cell_type": "code",
   "execution_count": 6,
   "id": "aeb19cfe",
   "metadata": {},
   "outputs": [
    {
     "name": "stdout",
     "output_type": "stream",
     "text": [
      "enter your name; arham\n"
     ]
    }
   ],
   "source": [
    "name = input(\"enter your name; \")"
   ]
  },
  {
   "cell_type": "code",
   "execution_count": 7,
   "id": "bd172c27",
   "metadata": {},
   "outputs": [
    {
     "data": {
      "text/plain": [
       "'arham'"
      ]
     },
     "execution_count": 7,
     "metadata": {},
     "output_type": "execute_result"
    }
   ],
   "source": [
    "name   # by default returns string"
   ]
  },
  {
   "cell_type": "code",
   "execution_count": 8,
   "id": "4cfd0da1",
   "metadata": {},
   "outputs": [
    {
     "name": "stdout",
     "output_type": "stream",
     "text": [
      "enter your age ; 19\n"
     ]
    }
   ],
   "source": [
    "age = int(input(\"enter your age ; \"))"
   ]
  },
  {
   "cell_type": "code",
   "execution_count": 9,
   "id": "19549638",
   "metadata": {},
   "outputs": [
    {
     "data": {
      "text/plain": [
       "19"
      ]
     },
     "execution_count": 9,
     "metadata": {},
     "output_type": "execute_result"
    }
   ],
   "source": [
    "age"
   ]
  },
  {
   "cell_type": "code",
   "execution_count": 10,
   "id": "060bc95e",
   "metadata": {},
   "outputs": [
    {
     "name": "stdout",
     "output_type": "stream",
     "text": [
      "enter your weight ; 84\n"
     ]
    }
   ],
   "source": [
    "weight = float(input(\"enter your weight ; \"))"
   ]
  },
  {
   "cell_type": "code",
   "execution_count": 11,
   "id": "df1f8782",
   "metadata": {},
   "outputs": [
    {
     "data": {
      "text/plain": [
       "84.0"
      ]
     },
     "execution_count": 11,
     "metadata": {},
     "output_type": "execute_result"
    }
   ],
   "source": [
    "weight "
   ]
  },
  {
   "cell_type": "markdown",
   "id": "7b1ab789",
   "metadata": {},
   "source": [
    "# conditional statements"
   ]
  },
  {
   "cell_type": "markdown",
   "id": "acb3068c",
   "metadata": {},
   "source": [
    "- if\n",
    "- elif \n",
    "- else"
   ]
  },
  {
   "cell_type": "code",
   "execution_count": 12,
   "id": "53d28d5e",
   "metadata": {},
   "outputs": [],
   "source": [
    "eid = False"
   ]
  },
  {
   "cell_type": "raw",
   "id": "ff6b1c08",
   "metadata": {},
   "source": [
    "syntax:\n",
    "\n",
    "if<condition>:\n",
    "    <>\n",
    "else<condition>:\n",
    "    <>"
   ]
  },
  {
   "cell_type": "code",
   "execution_count": 13,
   "id": "e83f9090",
   "metadata": {},
   "outputs": [
    {
     "name": "stdout",
     "output_type": "stream",
     "text": [
      "tomorrow is working day\n"
     ]
    }
   ],
   "source": [
    "if eid:\n",
    "    print('tomorrow is holiday')\n",
    "else:\n",
    "    print('tomorrow is working day')"
   ]
  },
  {
   "cell_type": "markdown",
   "id": "9e6b3df3",
   "metadata": {},
   "source": [
    "# make a program that tells you your grade based on marks inputted"
   ]
  },
  {
   "cell_type": "code",
   "execution_count": 14,
   "id": "a75e4b8e",
   "metadata": {},
   "outputs": [
    {
     "name": "stdout",
     "output_type": "stream",
     "text": [
      "enter your marks86\n"
     ]
    }
   ],
   "source": [
    "marks = int(input (\"enter your marks\"))"
   ]
  },
  {
   "cell_type": "code",
   "execution_count": 15,
   "id": "b9761611",
   "metadata": {},
   "outputs": [
    {
     "name": "stdout",
     "output_type": "stream",
     "text": [
      "grade B\n"
     ]
    }
   ],
   "source": [
    "if (marks>=90):           # used of if ,elif and else\n",
    "    print('grade A+')\n",
    "elif(marks>=80):\n",
    "    print(\"grade B\")\n",
    "elif(marks>=70):\n",
    "    print(\"grade c\")\n",
    "elif(marks>=60):\n",
    "    print('grade D')\n",
    "else:\n",
    "    print('grade F')"
   ]
  },
  {
   "cell_type": "markdown",
   "id": "e7087d54",
   "metadata": {},
   "source": [
    "### nested if else"
   ]
  },
  {
   "cell_type": "code",
   "execution_count": 16,
   "id": "a49ceced",
   "metadata": {},
   "outputs": [
    {
     "name": "stdout",
     "output_type": "stream",
     "text": [
      "shop is open ,have to check for rice\n",
      "check for rice in yes or no:yes\n",
      "take 1 kg \n"
     ]
    }
   ],
   "source": [
    "shop_open = True\n",
    "\n",
    "\n",
    "if shop_open :\n",
    "    print(\"shop is open ,have to check for rice\")\n",
    "    basmati_rice= (input(\"check for rice in yes or no:\"))\n",
    "    if basmati_rice==\"yes\" :\n",
    "        print(\"take 1 kg \")\n",
    "    else :\n",
    "        print(\"buy nothing\")\n",
    "else :\n",
    "    print(\"shop is closed\")\n",
    "    "
   ]
  },
  {
   "cell_type": "markdown",
   "id": "43a44397",
   "metadata": {},
   "source": [
    "## check eligibility for voting based on age input"
   ]
  },
  {
   "cell_type": "code",
   "execution_count": 17,
   "id": "4777958d",
   "metadata": {},
   "outputs": [
    {
     "name": "stdout",
     "output_type": "stream",
     "text": [
      "enter your age 19\n",
      "yes you are eigible for voting\n"
     ]
    }
   ],
   "source": [
    "age = int(input(\"enter your age \"))\n",
    "\n",
    "if age>=18:\n",
    "    print(\"yes you are eigible for voting\")\n",
    "else:\n",
    "    print(\"you are not eligible for voting\")"
   ]
  },
  {
   "cell_type": "markdown",
   "id": "46740209",
   "metadata": {},
   "source": [
    "### check even or odd"
   ]
  },
  {
   "cell_type": "code",
   "execution_count": 18,
   "id": "ce9dbe98",
   "metadata": {},
   "outputs": [
    {
     "name": "stdout",
     "output_type": "stream",
     "text": [
      "enter a number : 7\n",
      "odd\n"
     ]
    }
   ],
   "source": [
    "num= int(input(\"enter a number : \"))\n",
    "\n",
    "\n",
    "if(num%2 == 0):\n",
    "    print (\"even\")\n",
    "else:\n",
    "    print(\"odd\")"
   ]
  },
  {
   "cell_type": "code",
   "execution_count": 19,
   "id": "bdfea34c",
   "metadata": {},
   "outputs": [
    {
     "name": "stdout",
     "output_type": "stream",
     "text": [
      "enter a number :8\n",
      "no 8its not a multiple of 5\n"
     ]
    }
   ],
   "source": [
    "num2 = int(input(\"enter a number :\"))\n",
    "\n",
    "if (num2 % 5 == 0):\n",
    "    print (f\" {num2}yes its a multiple of 5\")\n",
    "else :\n",
    "    print (f\"no {num2}its not a multiple of 5\")"
   ]
  },
  {
   "cell_type": "markdown",
   "id": "5897e6df",
   "metadata": {},
   "source": [
    "## operator :\n",
    "- NOT --> negate\n",
    "- AND --> both\n",
    "- OR  --> either"
   ]
  },
  {
   "cell_type": "code",
   "execution_count": 20,
   "id": "a97857c0",
   "metadata": {},
   "outputs": [
    {
     "data": {
      "text/plain": [
       "False"
      ]
     },
     "execution_count": 20,
     "metadata": {},
     "output_type": "execute_result"
    }
   ],
   "source": [
    "(7>6)and (3>4) # both cond should be true for and"
   ]
  },
  {
   "cell_type": "code",
   "execution_count": 21,
   "id": "2bcea8c3",
   "metadata": {},
   "outputs": [
    {
     "data": {
      "text/plain": [
       "True"
      ]
     },
     "execution_count": 21,
     "metadata": {},
     "output_type": "execute_result"
    }
   ],
   "source": [
    "(7>6) or (3>4) # in or atleast one condition to be true"
   ]
  },
  {
   "cell_type": "markdown",
   "id": "a76c0bf7",
   "metadata": {},
   "source": [
    "## grading system using and , or and not operators\n"
   ]
  },
  {
   "cell_type": "code",
   "execution_count": 22,
   "id": "94409bce",
   "metadata": {},
   "outputs": [
    {
     "name": "stdout",
     "output_type": "stream",
     "text": [
      "enter your marks:65\n",
      "grade B\n"
     ]
    }
   ],
   "source": [
    "marks=int(input(\"enter your marks:\"))\n",
    "\n",
    "if (marks<=100)and(marks >=80):\n",
    "    print(\"grade A\")\n",
    "elif(marks<=80)and(marks >=60):\n",
    "    print(\"grade B\")\n",
    "elif (marks<=60)and(marks>=50):\n",
    "    print(\"grade C\")\n",
    "elif (marks<=50)and (marks>=45):\n",
    "    print(\"garde D\")\n",
    "elif(marks<=45)and(marks>=25):\n",
    "    print(\"grade E\")\n",
    "elif(marks<=25)and(marks>0):\n",
    "    print(\"grade F\")\n",
    "else:\n",
    "    print(\"invalid numberr\")"
   ]
  },
  {
   "cell_type": "markdown",
   "id": "a51d9b09",
   "metadata": {},
   "source": [
    "## comments for Multiline comments"
   ]
  },
  {
   "cell_type": "code",
   "execution_count": 23,
   "id": "c91e7d9d",
   "metadata": {},
   "outputs": [
    {
     "name": "stdout",
     "output_type": "stream",
     "text": [
      "changingg behavior\n"
     ]
    }
   ],
   "source": [
    "'''first line\n",
    "second line\n",
    "third line'''\n",
    "\n",
    "print(\"changingg behavior\")"
   ]
  },
  {
   "cell_type": "markdown",
   "id": "90f81337",
   "metadata": {},
   "source": [
    "## methods of any type :"
   ]
  },
  {
   "cell_type": "markdown",
   "id": "1e9b367f",
   "metadata": {},
   "source": [
    "## positive slicing:"
   ]
  },
  {
   "cell_type": "code",
   "execution_count": 24,
   "id": "f79f6864",
   "metadata": {},
   "outputs": [
    {
     "data": {
      "text/plain": [
       "'a'"
      ]
     },
     "execution_count": 24,
     "metadata": {},
     "output_type": "execute_result"
    }
   ],
   "source": [
    "name= \"arham\"\n",
    "name[0] # this is called slicing and initiates from  and ends before the last number\n"
   ]
  },
  {
   "cell_type": "code",
   "execution_count": 25,
   "id": "4f395297",
   "metadata": {},
   "outputs": [
    {
     "data": {
      "text/plain": [
       "'arha'"
      ]
     },
     "execution_count": 25,
     "metadata": {},
     "output_type": "execute_result"
    }
   ],
   "source": [
    "name[0:4]"
   ]
  },
  {
   "cell_type": "code",
   "execution_count": 26,
   "id": "5955ce9b",
   "metadata": {},
   "outputs": [
    {
     "data": {
      "text/plain": [
       "'lo my name i'"
      ]
     },
     "execution_count": 26,
     "metadata": {},
     "output_type": "execute_result"
    }
   ],
   "source": [
    "hello= \"hello my name is arham\"\n",
    "hello[3:15]"
   ]
  },
  {
   "cell_type": "markdown",
   "id": "58432ee8",
   "metadata": {},
   "source": [
    "## count method"
   ]
  },
  {
   "cell_type": "code",
   "execution_count": 27,
   "id": "ef285a22",
   "metadata": {},
   "outputs": [
    {
     "data": {
      "text/plain": [
       "3"
      ]
     },
     "execution_count": 27,
     "metadata": {},
     "output_type": "execute_result"
    }
   ],
   "source": [
    "hello.count(\"a\")"
   ]
  },
  {
   "cell_type": "markdown",
   "id": "71a8a31e",
   "metadata": {},
   "source": [
    "## negative slicing :\n"
   ]
  },
  {
   "cell_type": "code",
   "execution_count": 28,
   "id": "93b714e6",
   "metadata": {},
   "outputs": [
    {
     "data": {
      "text/plain": [
       "'y name i'"
      ]
     },
     "execution_count": 28,
     "metadata": {},
     "output_type": "execute_result"
    }
   ],
   "source": [
    "hello[-15:-7]"
   ]
  },
  {
   "cell_type": "markdown",
   "id": "83431a3d",
   "metadata": {},
   "source": [
    "## more methods"
   ]
  },
  {
   "cell_type": "code",
   "execution_count": 29,
   "id": "8dc0d902",
   "metadata": {},
   "outputs": [
    {
     "data": {
      "text/plain": [
       "'HELLO MY NAME IS ARHAM'"
      ]
     },
     "execution_count": 29,
     "metadata": {},
     "output_type": "execute_result"
    }
   ],
   "source": [
    "hello.upper()"
   ]
  },
  {
   "cell_type": "code",
   "execution_count": 30,
   "id": "2097d58e",
   "metadata": {},
   "outputs": [
    {
     "data": {
      "text/plain": [
       "'Hello My Name Is Arham'"
      ]
     },
     "execution_count": 30,
     "metadata": {},
     "output_type": "execute_result"
    }
   ],
   "source": [
    "hello.title()"
   ]
  },
  {
   "cell_type": "code",
   "execution_count": 31,
   "id": "e7dd50fe",
   "metadata": {},
   "outputs": [
    {
     "data": {
      "text/plain": [
       "'Hello my name is arham'"
      ]
     },
     "execution_count": 31,
     "metadata": {},
     "output_type": "execute_result"
    }
   ],
   "source": [
    "hello.capitalize()"
   ]
  },
  {
   "cell_type": "code",
   "execution_count": 32,
   "id": "4dd7fd4f",
   "metadata": {},
   "outputs": [
    {
     "data": {
      "text/plain": [
       "14"
      ]
     },
     "execution_count": 32,
     "metadata": {},
     "output_type": "execute_result"
    }
   ],
   "source": [
    "hello.find(\"is\")   # using \"find\" to locate a letter or a word"
   ]
  },
  {
   "cell_type": "code",
   "execution_count": 33,
   "id": "38a5c800",
   "metadata": {},
   "outputs": [
    {
     "data": {
      "text/plain": [
       "'hello my name are arham'"
      ]
     },
     "execution_count": 33,
     "metadata": {},
     "output_type": "execute_result"
    }
   ],
   "source": [
    "hello.replace(\"is\",\"are\") #using \"replace \" to replace a word"
   ]
  },
  {
   "cell_type": "code",
   "execution_count": 34,
   "id": "d0d10f32",
   "metadata": {},
   "outputs": [
    {
     "data": {
      "text/plain": [
       "True"
      ]
     },
     "execution_count": 34,
     "metadata": {},
     "output_type": "execute_result"
    }
   ],
   "source": [
    "hello.startswith(\"hello\") # checks if a str starts with the letter or word (not confirmed)"
   ]
  },
  {
   "cell_type": "code",
   "execution_count": null,
   "id": "9eb48e34",
   "metadata": {},
   "outputs": [],
   "source": []
  }
 ],
 "metadata": {
  "kernelspec": {
   "display_name": "Python 3 (ipykernel)",
   "language": "python",
   "name": "python3"
  },
  "language_info": {
   "codemirror_mode": {
    "name": "ipython",
    "version": 3
   },
   "file_extension": ".py",
   "mimetype": "text/x-python",
   "name": "python",
   "nbconvert_exporter": "python",
   "pygments_lexer": "ipython3",
   "version": "3.11.2"
  }
 },
 "nbformat": 4,
 "nbformat_minor": 5
}
