{
 "cells": [
  {
   "cell_type": "markdown",
   "id": "330fbdcb",
   "metadata": {},
   "source": [
    "# loops"
   ]
  },
  {
   "cell_type": "code",
   "execution_count": null,
   "id": "7261a7bb",
   "metadata": {},
   "outputs": [],
   "source": [
    "suntax:\n",
    "------\n",
    "for temp_var in ([1,2,3,4,5]):\n",
    "    loop_body"
   ]
  },
  {
   "cell_type": "code",
   "execution_count": 1,
   "id": "a44f4a5a",
   "metadata": {},
   "outputs": [
    {
     "name": "stdout",
     "output_type": "stream",
     "text": [
      "1\n",
      "2\n",
      "3\n",
      "4\n",
      "5\n"
     ]
    }
   ],
   "source": [
    "for a in [1,2,3,4,5]: # for data with sets\n",
    "    print(a)"
   ]
  },
  {
   "cell_type": "code",
   "execution_count": 2,
   "id": "487d957c",
   "metadata": {},
   "outputs": [
    {
     "name": "stdout",
     "output_type": "stream",
     "text": [
      "qasim\n",
      "hassan\n",
      "25\n",
      "25.5\n",
      "True\n"
     ]
    }
   ],
   "source": [
    "for a in ('qasim','hassan',25,25.5,True): # for data with touples\n",
    "    print (a)"
   ]
  },
  {
   "cell_type": "code",
   "execution_count": 8,
   "id": "35cbdd7f",
   "metadata": {},
   "outputs": [
    {
     "name": "stdout",
     "output_type": "stream",
     "text": [
      "happy birthday\n",
      "happy birthday\n",
      "happy birthday\n",
      "happy birthday\n",
      "happy birthday\n"
     ]
    }
   ],
   "source": [
    "for temp in (1,2,3,4,5):\n",
    "    print (\"happy birthday\")"
   ]
  },
  {
   "cell_type": "code",
   "execution_count": 14,
   "id": "05018a9b",
   "metadata": {},
   "outputs": [
    {
     "name": "stdout",
     "output_type": "stream",
     "text": [
      "0\n",
      "1\n",
      "2\n",
      "3\n",
      "4\n"
     ]
    }
   ],
   "source": [
    "for a in range(5):#generator function and prints except the last limit\n",
    "    print (a)"
   ]
  },
  {
   "cell_type": "code",
   "execution_count": 15,
   "id": "bcf0b378",
   "metadata": {},
   "outputs": [
    {
     "name": "stdout",
     "output_type": "stream",
     "text": [
      "0 happy birthday\n",
      "1 happy birthday\n",
      "2 happy birthday\n",
      "3 happy birthday\n",
      "4 happy birthday\n"
     ]
    }
   ],
   "source": [
    "for a in range(5):\n",
    "    print (a,\"happy birthday\")"
   ]
  },
  {
   "cell_type": "code",
   "execution_count": 16,
   "id": "2633a48b",
   "metadata": {},
   "outputs": [
    {
     "name": "stdout",
     "output_type": "stream",
     "text": [
      "how many times you want to wish happy birthday:5\n",
      "happy birthday\n",
      "happy birthday\n",
      "happy birthday\n",
      "happy birthday\n",
      "happy birthday\n"
     ]
    }
   ],
   "source": [
    "x = int(input(\"how many times you want to wish happy birthday:\")) # dynamic approach using range\n",
    "for a in range(x):\n",
    "    print (\"happy birthday\")"
   ]
  },
  {
   "cell_type": "code",
   "execution_count": 24,
   "id": "6f4ce65d",
   "metadata": {},
   "outputs": [
    {
     "name": "stdout",
     "output_type": "stream",
     "text": [
      "enter the numbers in series:7\n",
      "the first 7 terms of the series are \n",
      "1\n",
      "4\n",
      "9\n",
      "16\n",
      "25\n",
      "36\n",
      "49\n"
     ]
    }
   ],
   "source": [
    " x= int(input(\"enter the numbers in series:\"))\n",
    "print(f\"the first {x} terms of the series are \")    \n",
    "for a in range(x):\n",
    "    print ((a+1)**2)"
   ]
  },
  {
   "cell_type": "markdown",
   "id": "b6228423",
   "metadata": {},
   "source": [
    "### write a program that takes user input and prints its multiplication table ###"
   ]
  },
  {
   "cell_type": "code",
   "execution_count": 32,
   "id": "d34f745c",
   "metadata": {},
   "outputs": [
    {
     "name": "stdout",
     "output_type": "stream",
     "text": [
      "enter the table number7\n",
      "how many times want to print12\n",
      "7*1 = 7\n",
      "7*2 = 14\n",
      "7*3 = 21\n",
      "7*4 = 28\n",
      "7*5 = 35\n",
      "7*6 = 42\n",
      "7*7 = 49\n",
      "7*8 = 56\n",
      "7*9 = 63\n",
      "7*10 = 70\n",
      "7*11 = 77\n",
      "7*12 = 84\n"
     ]
    }
   ],
   "source": [
    "table = int(input(\"enter the table number\"))\n",
    "times = int (input(\"how many times want to print\"))\n",
    "for a in range (times):\n",
    "    print (f\"{table}*{a+1} = {table * (a+1)}\")"
   ]
  },
  {
   "cell_type": "markdown",
   "id": "66bb4704",
   "metadata": {},
   "source": [
    "## task : print tables from 2 to 5 in such a way that every table prints one time less than the other "
   ]
  },
  {
   "cell_type": "code",
   "execution_count": 121,
   "id": "93f0115a",
   "metadata": {},
   "outputs": [
    {
     "name": "stdout",
     "output_type": "stream",
     "text": [
      "2\n",
      "2*1 = 2\n",
      "2*2 = 4\n",
      "2*3 = 6\n",
      "2*4 = 8\n",
      "2*5 = 10\n",
      "2*6 = 12\n",
      "2*7 = 14\n",
      "2*8 = 16\n",
      "2*9 = 18\n",
      "2*10 = 20\n",
      "3\n",
      "3*1 = 3\n",
      "3*2 = 6\n",
      "3*3 = 9\n",
      "3*4 = 12\n",
      "3*5 = 15\n",
      "3*6 = 18\n",
      "3*7 = 21\n",
      "3*8 = 24\n",
      "3*9 = 27\n",
      "4\n",
      "4*1 = 4\n",
      "4*2 = 8\n",
      "4*3 = 12\n",
      "4*4 = 16\n",
      "4*5 = 20\n",
      "4*6 = 24\n",
      "4*7 = 28\n",
      "4*8 = 32\n",
      "5\n",
      "5*1 = 5\n",
      "5*2 = 10\n",
      "5*3 = 15\n",
      "5*4 = 20\n",
      "5*5 = 25\n",
      "5*6 = 30\n",
      "5*7 = 35\n"
     ]
    }
   ],
   "source": [
    "n= 10                                      # prints less with out x -=1 !!!!!!!!!!\n",
    "for table in range (2,6):\n",
    "    print (table )\n",
    "    for n in range (n):\n",
    "        print (f\"{table}*{n+1} = {table * (n+1)}\")\n",
    "        \n",
    "     "
   ]
  },
  {
   "cell_type": "markdown",
   "id": "5e3aed24",
   "metadata": {},
   "source": [
    "# dictionaries"
   ]
  },
  {
   "cell_type": "markdown",
   "id": "1ad02485",
   "metadata": {},
   "source": [
    "- key : value\n"
   ]
  },
  {
   "cell_type": "code",
   "execution_count": 60,
   "id": "98926e1b",
   "metadata": {},
   "outputs": [
    {
     "data": {
      "text/plain": [
       "['qasim', 'hassan', 18, 21]"
      ]
     },
     "execution_count": 60,
     "metadata": {},
     "output_type": "execute_result"
    }
   ],
   "source": [
    " [\"qasim\" , \"hassan\" , 18, 21]\n",
    "    "
   ]
  },
  {
   "cell_type": "code",
   "execution_count": 62,
   "id": "e2c0ac92",
   "metadata": {},
   "outputs": [],
   "source": [
    "bio_data = {\"f_name\":\"qasim\",  # starts from curly brackets\n",
    "\"l_name\": \"hassan\",\n",
    "\"age \": 18,\n",
    "\"weight\":21}"
   ]
  },
  {
   "cell_type": "code",
   "execution_count": 63,
   "id": "8590c200",
   "metadata": {},
   "outputs": [
    {
     "data": {
      "text/plain": [
       "(dict, 139696479379200)"
      ]
     },
     "execution_count": 63,
     "metadata": {},
     "output_type": "execute_result"
    }
   ],
   "source": [
    "type (bio_data),id(bio_data)"
   ]
  },
  {
   "cell_type": "code",
   "execution_count": 64,
   "id": "7b106663",
   "metadata": {},
   "outputs": [],
   "source": [
    "bio_data[\"is_present\"] = True   # to add a key to dict"
   ]
  },
  {
   "cell_type": "code",
   "execution_count": 65,
   "id": "90f377ed",
   "metadata": {},
   "outputs": [
    {
     "data": {
      "text/plain": [
       "{'f_name': 'qasim',\n",
       " 'l_name': 'hassan',\n",
       " 'age ': 18,\n",
       " 'weight': 21,\n",
       " 'is_present': True}"
      ]
     },
     "execution_count": 65,
     "metadata": {},
     "output_type": "execute_result"
    }
   ],
   "source": [
    "bio_data"
   ]
  },
  {
   "cell_type": "code",
   "execution_count": 66,
   "id": "ebb62f14",
   "metadata": {},
   "outputs": [
    {
     "data": {
      "text/plain": [
       "dict_keys(['f_name', 'l_name', 'age ', 'weight', 'is_present'])"
      ]
     },
     "execution_count": 66,
     "metadata": {},
     "output_type": "execute_result"
    }
   ],
   "source": [
    "bio_data.keys()"
   ]
  },
  {
   "cell_type": "code",
   "execution_count": 67,
   "id": "3763bd48",
   "metadata": {},
   "outputs": [
    {
     "data": {
      "text/plain": [
       "dict_values(['qasim', 'hassan', 18, 21, True])"
      ]
     },
     "execution_count": 67,
     "metadata": {},
     "output_type": "execute_result"
    }
   ],
   "source": [
    "bio_data.values()"
   ]
  },
  {
   "cell_type": "code",
   "execution_count": 68,
   "id": "9dfc08ce",
   "metadata": {},
   "outputs": [
    {
     "data": {
      "text/plain": [
       "dict_items([('f_name', 'qasim'), ('l_name', 'hassan'), ('age ', 18), ('weight', 21), ('is_present', True)])"
      ]
     },
     "execution_count": 68,
     "metadata": {},
     "output_type": "execute_result"
    }
   ],
   "source": [
    "bio_data.items()"
   ]
  },
  {
   "cell_type": "code",
   "execution_count": 73,
   "id": "f764d6a9",
   "metadata": {},
   "outputs": [
    {
     "data": {
      "text/plain": [
       "('qasim', None)"
      ]
     },
     "execution_count": 73,
     "metadata": {},
     "output_type": "execute_result"
    }
   ],
   "source": [
    "bio_data.get(\"f_name\"),bio_data.get(\"cnic\")"
   ]
  },
  {
   "cell_type": "code",
   "execution_count": 75,
   "id": "83c083d4",
   "metadata": {},
   "outputs": [],
   "source": [
    "bio_data[\"f_name\"]=\"qaaaasim\""
   ]
  },
  {
   "cell_type": "code",
   "execution_count": 77,
   "id": "f73ab267",
   "metadata": {},
   "outputs": [
    {
     "data": {
      "text/plain": [
       "{'f_name': 'qaaaasim',\n",
       " 'l_name': 'hassan',\n",
       " 'age ': 18,\n",
       " 'weight': 21,\n",
       " 'is_present': True}"
      ]
     },
     "execution_count": 77,
     "metadata": {},
     "output_type": "execute_result"
    }
   ],
   "source": [
    "bio_data"
   ]
  },
  {
   "cell_type": "code",
   "execution_count": 85,
   "id": "6abb3fba",
   "metadata": {},
   "outputs": [
    {
     "ename": "SyntaxError",
     "evalue": "invalid syntax (3637869599.py, line 1)",
     "output_type": "error",
     "traceback": [
      "\u001b[0;36m  Cell \u001b[0;32mIn [85], line 1\u001b[0;36m\u001b[0m\n\u001b[0;31m    bio_data.pop(\"f_name\"[,\"l_name\"])\u001b[0m\n\u001b[0m                          ^\u001b[0m\n\u001b[0;31mSyntaxError\u001b[0m\u001b[0;31m:\u001b[0m invalid syntax\n"
     ]
    }
   ],
   "source": [
    "bio_data.pop(\"f_name\"[,\"l_name\"])"
   ]
  },
  {
   "cell_type": "code",
   "execution_count": 87,
   "id": "95c28fb5",
   "metadata": {},
   "outputs": [
    {
     "data": {
      "text/plain": [
       "('is_present', True)"
      ]
     },
     "execution_count": 87,
     "metadata": {},
     "output_type": "execute_result"
    }
   ],
   "source": [
    "bio_data.popitem()     # removes the last entry , doesnt req arg"
   ]
  },
  {
   "cell_type": "code",
   "execution_count": 90,
   "id": "88aad52e",
   "metadata": {},
   "outputs": [
    {
     "data": {
      "text/plain": [
       "'qaaaasim'"
      ]
     },
     "execution_count": 90,
     "metadata": {},
     "output_type": "execute_result"
    }
   ],
   "source": [
    "bio_data.pop(\"f_name\",\"qaaaasim\") # use of pop : removes the entry but req arg"
   ]
  },
  {
   "cell_type": "code",
   "execution_count": 91,
   "id": "31a07fdc",
   "metadata": {},
   "outputs": [
    {
     "data": {
      "text/plain": [
       "{'l_name': 'hassan', 'age ': 18, 'weight': 21}"
      ]
     },
     "execution_count": 91,
     "metadata": {},
     "output_type": "execute_result"
    }
   ],
   "source": [
    "bio_data"
   ]
  },
  {
   "cell_type": "code",
   "execution_count": 92,
   "id": "5b40c93e",
   "metadata": {},
   "outputs": [
    {
     "data": {
      "text/plain": [
       "'hassan'"
      ]
     },
     "execution_count": 92,
     "metadata": {},
     "output_type": "execute_result"
    }
   ],
   "source": [
    "bio_data.pop(\"l_name\")"
   ]
  },
  {
   "cell_type": "code",
   "execution_count": 93,
   "id": "421a1b87",
   "metadata": {},
   "outputs": [
    {
     "data": {
      "text/plain": [
       "{'age ': 18, 'weight': 21}"
      ]
     },
     "execution_count": 93,
     "metadata": {},
     "output_type": "execute_result"
    }
   ],
   "source": [
    "bio_data"
   ]
  },
  {
   "cell_type": "code",
   "execution_count": 94,
   "id": "c94c3a2f",
   "metadata": {},
   "outputs": [
    {
     "data": {
      "text/plain": [
       "'qasim'"
      ]
     },
     "execution_count": 94,
     "metadata": {},
     "output_type": "execute_result"
    }
   ],
   "source": [
    "bio_data.setdefault(\"f_name\",\"qasim\")"
   ]
  },
  {
   "cell_type": "code",
   "execution_count": 97,
   "id": "48481af6",
   "metadata": {},
   "outputs": [
    {
     "data": {
      "text/plain": [
       "18"
      ]
     },
     "execution_count": 97,
     "metadata": {},
     "output_type": "execute_result"
    }
   ],
   "source": [
    "bio_data.setdefault(\"age \",19)"
   ]
  },
  {
   "cell_type": "code",
   "execution_count": 100,
   "id": "fbbf6129",
   "metadata": {},
   "outputs": [
    {
     "data": {
      "text/plain": [
       "{'age ': 18, 'weight': 21, 'f_name': 'qasim', 'age': 19}"
      ]
     },
     "execution_count": 100,
     "metadata": {},
     "output_type": "execute_result"
    }
   ],
   "source": [
    "bio_data"
   ]
  },
  {
   "cell_type": "code",
   "execution_count": 102,
   "id": "f2bd78b5",
   "metadata": {},
   "outputs": [
    {
     "data": {
      "text/plain": [
       "19"
      ]
     },
     "execution_count": 102,
     "metadata": {},
     "output_type": "execute_result"
    }
   ],
   "source": [
    "bio_data.pop(\"age\")     #pop"
   ]
  },
  {
   "cell_type": "code",
   "execution_count": 103,
   "id": "419a968c",
   "metadata": {},
   "outputs": [
    {
     "data": {
      "text/plain": [
       "{'age ': 18, 'weight': 21, 'f_name': 'qasim'}"
      ]
     },
     "execution_count": 103,
     "metadata": {},
     "output_type": "execute_result"
    }
   ],
   "source": [
    "bio_data"
   ]
  },
  {
   "cell_type": "code",
   "execution_count": 104,
   "id": "ff605506",
   "metadata": {},
   "outputs": [
    {
     "data": {
      "text/plain": [
       "18"
      ]
     },
     "execution_count": 104,
     "metadata": {},
     "output_type": "execute_result"
    }
   ],
   "source": [
    "bio_data.setdefault(\"age \",19)  #set default; checks for keys available,if yes returns value , if not creates one"
   ]
  },
  {
   "cell_type": "code",
   "execution_count": 105,
   "id": "1cc744cd",
   "metadata": {},
   "outputs": [
    {
     "data": {
      "text/plain": [
       "{'age ': 18, 'weight': 21, 'f_name': 'qasim'}"
      ]
     },
     "execution_count": 105,
     "metadata": {},
     "output_type": "execute_result"
    }
   ],
   "source": [
    "bio_data"
   ]
  },
  {
   "cell_type": "code",
   "execution_count": 106,
   "id": "1fd9a44f",
   "metadata": {},
   "outputs": [],
   "source": [
    "bio__data= {\"blood\":\"o-\"}"
   ]
  },
  {
   "cell_type": "code",
   "execution_count": 107,
   "id": "0ba7991c",
   "metadata": {},
   "outputs": [],
   "source": [
    "bio_data.update(bio__data)       #use of update: merges two dictionaries"
   ]
  },
  {
   "cell_type": "code",
   "execution_count": 108,
   "id": "f442fcc6",
   "metadata": {},
   "outputs": [
    {
     "data": {
      "text/plain": [
       "{'age ': 18, 'weight': 21, 'f_name': 'qasim', 'blood': 'o-'}"
      ]
     },
     "execution_count": 108,
     "metadata": {},
     "output_type": "execute_result"
    }
   ],
   "source": [
    "bio_data"
   ]
  },
  {
   "cell_type": "markdown",
   "id": "dbbb8fca",
   "metadata": {},
   "source": [
    "## dictionaries: versatality of keys and values"
   ]
  },
  {
   "cell_type": "markdown",
   "id": "90374961",
   "metadata": {},
   "source": [
    "## looping on dict"
   ]
  },
  {
   "cell_type": "code",
   "execution_count": 123,
   "id": "529b2f7e",
   "metadata": {},
   "outputs": [
    {
     "name": "stdout",
     "output_type": "stream",
     "text": [
      "age \n",
      "weight\n",
      "f_name\n",
      "blood\n"
     ]
    }
   ],
   "source": [
    "for temp in bio_data:      # by default keys\n",
    "    print (temp)"
   ]
  },
  {
   "cell_type": "code",
   "execution_count": 126,
   "id": "7349b429",
   "metadata": {},
   "outputs": [
    {
     "name": "stdout",
     "output_type": "stream",
     "text": [
      "('age ', 18)\n",
      "('weight', 21)\n",
      "('f_name', 'qasim')\n",
      "('blood', 'o-')\n"
     ]
    }
   ],
   "source": [
    "for temp in bio_data.items():  # for complete key values\n",
    "    print (temp)"
   ]
  },
  {
   "cell_type": "markdown",
   "id": "2d9b920a",
   "metadata": {},
   "source": [
    "\n"
   ]
  },
  {
   "cell_type": "markdown",
   "id": "55bb5b34",
   "metadata": {},
   "source": [
    "## list comprehension\n"
   ]
  },
  {
   "cell_type": "code",
   "execution_count": 128,
   "id": "ddbaf0b4",
   "metadata": {},
   "outputs": [
    {
     "data": {
      "text/plain": [
       "[1, 9, 25, 49]"
      ]
     },
     "execution_count": 128,
     "metadata": {},
     "output_type": "execute_result"
    }
   ],
   "source": [
    "L = [i**2 for i in range (1,8,2)]\n",
    "L"
   ]
  },
  {
   "cell_type": "markdown",
   "id": "76913fd0",
   "metadata": {},
   "source": [
    "## dictionary comprehension\n"
   ]
  },
  {
   "cell_type": "code",
   "execution_count": 133,
   "id": "de819f67",
   "metadata": {},
   "outputs": [],
   "source": [
    "d = {ii:ii**2 for ii in range (5)}"
   ]
  },
  {
   "cell_type": "code",
   "execution_count": 132,
   "id": "7c0d1114",
   "metadata": {},
   "outputs": [
    {
     "data": {
      "text/plain": [
       "{0: 0, 1: 1, 2: 4, 3: 9, 4: 16}"
      ]
     },
     "execution_count": 132,
     "metadata": {},
     "output_type": "execute_result"
    }
   ],
   "source": [
    "d"
   ]
  },
  {
   "cell_type": "code",
   "execution_count": 134,
   "id": "3a77ac53",
   "metadata": {},
   "outputs": [],
   "source": [
    "result = {\"ali \":80,\"muhammad\":89,\"usama\":69,\"asad\":56}"
   ]
  },
  {
   "cell_type": "code",
   "execution_count": 135,
   "id": "81eff732",
   "metadata": {},
   "outputs": [],
   "source": [
    "passed = {name:marks for name,marks in result.items() if marks >70}"
   ]
  },
  {
   "cell_type": "code",
   "execution_count": 136,
   "id": "cacb3ba2",
   "metadata": {},
   "outputs": [
    {
     "data": {
      "text/plain": [
       "{'ali ': 80, 'muhammad': 89}"
      ]
     },
     "execution_count": 136,
     "metadata": {},
     "output_type": "execute_result"
    }
   ],
   "source": [
    "passed"
   ]
  },
  {
   "cell_type": "markdown",
   "id": "473c1d00",
   "metadata": {},
   "source": [
    " ## list comprehension"
   ]
  },
  {
   "cell_type": "markdown",
   "id": "0bc0e8f4",
   "metadata": {},
   "source": [
    "## without conditions"
   ]
  },
  {
   "cell_type": "code",
   "execution_count": 160,
   "id": "b159c6c0",
   "metadata": {},
   "outputs": [],
   "source": [
    "# normal programming\n",
    "Lst = []\n",
    "for temp in range(10):\n",
    "    Lst.append(temp)"
   ]
  },
  {
   "cell_type": "code",
   "execution_count": 161,
   "id": "07c15734",
   "metadata": {},
   "outputs": [
    {
     "data": {
      "text/plain": [
       "[0, 1, 2, 3, 4, 5, 6, 7, 8, 9]"
      ]
     },
     "execution_count": 161,
     "metadata": {},
     "output_type": "execute_result"
    }
   ],
   "source": [
    "Lst\n"
   ]
  },
  {
   "cell_type": "code",
   "execution_count": 162,
   "id": "c3593833",
   "metadata": {},
   "outputs": [
    {
     "data": {
      "text/plain": [
       "[0, 1, 2, 3, 4, 5, 6, 7, 8, 9]"
      ]
     },
     "execution_count": 162,
     "metadata": {},
     "output_type": "execute_result"
    }
   ],
   "source": [
    "# list comprehension , on the spot code but on one line \n",
    "[ temp for temp in range(10)]"
   ]
  },
  {
   "cell_type": "markdown",
   "id": "01946db4",
   "metadata": {},
   "source": [
    "## with condition"
   ]
  },
  {
   "cell_type": "code",
   "execution_count": 163,
   "id": "e18ae756",
   "metadata": {},
   "outputs": [],
   "source": [
    "\n",
    "Lst = []\n",
    "for temp in range(10):\n",
    "    if temp %2==0:\n",
    "     Lst.append(temp)\n",
    "    else:\n",
    "     Lst.append(\"odd\")"
   ]
  },
  {
   "cell_type": "code",
   "execution_count": 164,
   "id": "51847ac0",
   "metadata": {},
   "outputs": [
    {
     "data": {
      "text/plain": [
       "[0, 'odd', 2, 'odd', 4, 'odd', 6, 'odd', 8, 'odd']"
      ]
     },
     "execution_count": 164,
     "metadata": {},
     "output_type": "execute_result"
    }
   ],
   "source": [
    "Lst"
   ]
  },
  {
   "cell_type": "code",
   "execution_count": 165,
   "id": "ffacb904",
   "metadata": {},
   "outputs": [
    {
     "data": {
      "text/plain": [
       "[0, 2, 4, 6, 8]"
      ]
     },
     "execution_count": 165,
     "metadata": {},
     "output_type": "execute_result"
    }
   ],
   "source": [
    "[temp for temp in range(10) if temp %2==0]"
   ]
  },
  {
   "cell_type": "code",
   "execution_count": 166,
   "id": "21751dbd",
   "metadata": {},
   "outputs": [
    {
     "data": {
      "text/plain": [
       "[0, 'odd', 2, 'odd', 4, 'odd', 6, 'odd', 8, 'odd']"
      ]
     },
     "execution_count": 166,
     "metadata": {},
     "output_type": "execute_result"
    }
   ],
   "source": [
    "[temp if temp%2==0 else \"odd\" for temp in range(10) ]  # condition shifts to front if more conditions"
   ]
  },
  {
   "cell_type": "markdown",
   "id": "91f06810",
   "metadata": {},
   "source": [
    "## dictionary comprehension"
   ]
  },
  {
   "cell_type": "code",
   "execution_count": 171,
   "id": "268662ef",
   "metadata": {},
   "outputs": [],
   "source": [
    "lst2 = [\"qasim\",\"hassan\",18,25]\n",
    "lst1 = [\"f_name\",\"l_name\",\"age\",\"weight\"]\n"
   ]
  },
  {
   "cell_type": "code",
   "execution_count": 172,
   "id": "c8c55fa4",
   "metadata": {},
   "outputs": [
    {
     "data": {
      "text/plain": [
       "{'age ': 18,\n",
       " 'weight': 25,\n",
       " 'f_name': 'qasim',\n",
       " 'blood': 'o-',\n",
       " 'l_name': 'hassan',\n",
       " 'age': 18}"
      ]
     },
     "execution_count": 172,
     "metadata": {},
     "output_type": "execute_result"
    }
   ],
   "source": [
    "biodata= []                     # normal way\n",
    "for temp in zip(lst1,lst2):\n",
    "    bio_data[temp[0]]=temp[1]\n",
    "bio_data    "
   ]
  },
  {
   "cell_type": "code",
   "execution_count": 169,
   "id": "1e82b593",
   "metadata": {},
   "outputs": [
    {
     "data": {
      "text/plain": [
       "['f_name', 'l_name', 'age', 'weight', 'qasim', 'hassan', 18, 25]"
      ]
     },
     "execution_count": 169,
     "metadata": {},
     "output_type": "execute_result"
    }
   ],
   "source": [
    "lst1"
   ]
  },
  {
   "cell_type": "code",
   "execution_count": 177,
   "id": "74efd3f2",
   "metadata": {},
   "outputs": [
    {
     "data": {
      "text/plain": [
       "{'f_name': 'qasim', 'l_name': 'hassan', 'age': 18, 'weight': 25}"
      ]
     },
     "execution_count": 177,
     "metadata": {},
     "output_type": "execute_result"
    }
   ],
   "source": [
    "# dict comprehension\n",
    "{temp[0]:temp[1] for temp in zip(lst1,lst2)}\n"
   ]
  },
  {
   "cell_type": "code",
   "execution_count": null,
   "id": "8f4f86a7",
   "metadata": {},
   "outputs": [],
   "source": []
  }
 ],
 "metadata": {
  "kernelspec": {
   "display_name": "Python 3 (ipykernel)",
   "language": "python",
   "name": "python3"
  },
  "language_info": {
   "codemirror_mode": {
    "name": "ipython",
    "version": 3
   },
   "file_extension": ".py",
   "mimetype": "text/x-python",
   "name": "python",
   "nbconvert_exporter": "python",
   "pygments_lexer": "ipython3",
   "version": "3.11.2"
  }
 },
 "nbformat": 4,
 "nbformat_minor": 5
}
