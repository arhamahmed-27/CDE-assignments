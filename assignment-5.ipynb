{
 "cells": [
  {
   "cell_type": "markdown",
   "id": "2e914e69",
   "metadata": {},
   "source": [
    "# loops ASSIGNMENT\n"
   ]
  },
  {
   "cell_type": "markdown",
   "id": "88c70f33",
   "metadata": {},
   "source": [
    "1.Write a Python program to print the numbers from 1 to 10 using a for loop."
   ]
  },
  {
   "cell_type": "code",
   "execution_count": 1,
   "id": "cfe2ae35",
   "metadata": {},
   "outputs": [
    {
     "name": "stdout",
     "output_type": "stream",
     "text": [
      "1\n",
      "2\n",
      "3\n",
      "4\n",
      "5\n",
      "6\n",
      "7\n",
      "8\n",
      "9\n",
      "10\n"
     ]
    }
   ],
   "source": [
    "for i in range(1, 11):\n",
    "    print(i)"
   ]
  },
  {
   "cell_type": "markdown",
   "id": "16b86b79",
   "metadata": {},
   "source": [
    "2.Write a Python program to print the numbers from 20 to 1 using a while loop."
   ]
  },
  {
   "cell_type": "code",
   "execution_count": 2,
   "id": "f2badc95",
   "metadata": {},
   "outputs": [
    {
     "name": "stdout",
     "output_type": "stream",
     "text": [
      "20\n",
      "19\n",
      "18\n",
      "17\n",
      "16\n",
      "15\n",
      "14\n",
      "13\n",
      "12\n",
      "11\n",
      "10\n",
      "9\n",
      "8\n",
      "7\n",
      "6\n",
      "5\n",
      "4\n",
      "3\n",
      "2\n",
      "1\n"
     ]
    }
   ],
   "source": [
    "n = 20\n",
    "while n >= 1:\n",
    "    print(n)\n",
    "    n -= 1"
   ]
  },
  {
   "cell_type": "markdown",
   "id": "e0515dfc",
   "metadata": {},
   "source": [
    "3.Write a program to print even numbers from 1 to 10."
   ]
  },
  {
   "cell_type": "code",
   "execution_count": 3,
   "id": "b16dbab8",
   "metadata": {},
   "outputs": [
    {
     "name": "stdout",
     "output_type": "stream",
     "text": [
      "2\n",
      "4\n",
      "6\n",
      "8\n",
      "10\n"
     ]
    }
   ],
   "source": [
    "for i in range(2, 11, 2):\n",
    "    print(i)"
   ]
  },
  {
   "cell_type": "markdown",
   "id": "b49732e8",
   "metadata": {},
   "source": [
    "4.Write a program that prompts the user to enter a number n and prints all the numbers from 1 to n."
   ]
  },
  {
   "cell_type": "code",
   "execution_count": 4,
   "id": "7826d6c7",
   "metadata": {},
   "outputs": [
    {
     "name": "stdout",
     "output_type": "stream",
     "text": [
      "Enter n: 8\n",
      "1\n",
      "2\n",
      "3\n",
      "4\n",
      "5\n",
      "6\n",
      "7\n",
      "8\n"
     ]
    }
   ],
   "source": [
    "n = int(input(\"Enter n: \"))\n",
    "for i in range(1, n + 1):\n",
    "    print(i)"
   ]
  },
  {
   "cell_type": "markdown",
   "id": "62eca404",
   "metadata": {},
   "source": [
    "5.Write a program that prompts the user to enter a number n, and then prints all the odd numbers between 1 and n."
   ]
  },
  {
   "cell_type": "code",
   "execution_count": 5,
   "id": "c6625ec7",
   "metadata": {},
   "outputs": [
    {
     "name": "stdout",
     "output_type": "stream",
     "text": [
      "Enter n: 5\n",
      "1\n",
      "3\n",
      "5\n"
     ]
    }
   ],
   "source": [
    "n = int(input(\"Enter n: \"))\n",
    "for i in range(1, n + 1, 2):\n",
    "    print(i)"
   ]
  },
  {
   "cell_type": "markdown",
   "id": "a33e5618",
   "metadata": {},
   "source": [
    "6.Write a program that prints 'Happy Birthday!' five times on screen."
   ]
  },
  {
   "cell_type": "code",
   "execution_count": 6,
   "id": "87c2aafe",
   "metadata": {},
   "outputs": [
    {
     "name": "stdout",
     "output_type": "stream",
     "text": [
      "Happy Birthday!\n",
      "Happy Birthday!\n",
      "Happy Birthday!\n",
      "Happy Birthday!\n",
      "Happy Birthday!\n"
     ]
    }
   ],
   "source": [
    "for yup in range(5):\n",
    "    print(\"Happy Birthday!\")"
   ]
  },
  {
   "cell_type": "markdown",
   "id": "7e3c25b1",
   "metadata": {},
   "source": [
    "7.Write a program that takes a number n as input from the user and generates the first n terms of the series formed by squaring the natural numbers. Sample output Enter a number: 6 The first 6 terms of the series are: 1 4 9 16 25 36"
   ]
  },
  {
   "cell_type": "code",
   "execution_count": 7,
   "id": "3c7412f9",
   "metadata": {},
   "outputs": [
    {
     "name": "stdout",
     "output_type": "stream",
     "text": [
      "Enter a number: 5\n",
      "The first 5 terms of the series are:\n",
      "1 \n",
      "4 \n",
      "9 \n",
      "16 \n",
      "25 \n"
     ]
    }
   ],
   "source": [
    "n = int(input(\"Enter a number: \"))\n",
    "print(f\"The first {n} terms of the series are:\")\n",
    "for i in range(1, n + 1):\n",
    "    print(i * i, end=\" \")\n",
    "    print()"
   ]
  },
  {
   "cell_type": "markdown",
   "id": "fccb1803",
   "metadata": {},
   "source": [
    "8.Write a program that prompts the user to input a number and prints its multiplication table."
   ]
  },
  {
   "cell_type": "code",
   "execution_count": 8,
   "id": "367a93f4",
   "metadata": {},
   "outputs": [
    {
     "name": "stdout",
     "output_type": "stream",
     "text": [
      "Enter a number: 6\n",
      "6 x 1 = 6\n",
      "6 x 2 = 12\n",
      "6 x 3 = 18\n",
      "6 x 4 = 24\n",
      "6 x 5 = 30\n",
      "6 x 6 = 36\n",
      "6 x 7 = 42\n",
      "6 x 8 = 48\n",
      "6 x 9 = 54\n",
      "6 x 10 = 60\n"
     ]
    }
   ],
   "source": [
    "x = int(input(\"Enter a number: \"))\n",
    "for i in range(1, 11):\n",
    "    print(f\"{x} x {i} = {x * i}\")"
   ]
  },
  {
   "cell_type": "markdown",
   "id": "0675dfcf",
   "metadata": {},
   "source": [
    "9.Write a Python program to print the first 8 terms of an arithmetic progression starting with 3 and having a common difference of 4. The program should output the following sequence: 3 7 11 15 19 23 27 31"
   ]
  },
  {
   "cell_type": "code",
   "execution_count": 9,
   "id": "b486a4ac",
   "metadata": {},
   "outputs": [
    {
     "name": "stdout",
     "output_type": "stream",
     "text": [
      "3 \n",
      "7 \n",
      "11 \n",
      "15 \n",
      "19 \n",
      "23 \n",
      "27 \n",
      "31 \n"
     ]
    }
   ],
   "source": [
    "term = 3\n",
    "for kyaa in range(8):\n",
    "    print(term, end=\" \")\n",
    "    term += 4\n",
    "    print()"
   ]
  },
  {
   "cell_type": "markdown",
   "id": "6c4a77f7",
   "metadata": {},
   "source": [
    "10.Write a Python program to print the first 6 terms of a geometric sequence starting with 2 and having a common ratio of 3. The program should output the following sequence: 2 6 18 54 162 486"
   ]
  },
  {
   "cell_type": "code",
   "execution_count": 10,
   "id": "25d1e734",
   "metadata": {},
   "outputs": [
    {
     "name": "stdout",
     "output_type": "stream",
     "text": [
      "2 \n",
      "6 \n",
      "18 \n",
      "54 \n",
      "162 \n",
      "486 \n"
     ]
    }
   ],
   "source": [
    "term = 2\n",
    "for _ in range(6):\n",
    "    print(term, end=\" \")\n",
    "    term *= 3\n",
    "    print()"
   ]
  },
  {
   "cell_type": "markdown",
   "id": "afc5cee0",
   "metadata": {},
   "source": [
    "11.Write a program that asks the user for a positive integer value. The program should calculate the sum of all the integers from 1 up to the number entered. For example, if the user enters 20, the loop will find the sum of 1, 2, 3, 4, ... 20."
   ]
  },
  {
   "cell_type": "code",
   "execution_count": 11,
   "id": "e97e85de",
   "metadata": {},
   "outputs": [
    {
     "name": "stdout",
     "output_type": "stream",
     "text": [
      "Enter a positive integer: 5\n",
      "Sum = 1\n",
      "Sum = 3\n",
      "Sum = 6\n",
      "Sum = 10\n",
      "Sum = 15\n"
     ]
    }
   ],
   "source": [
    "n = int(input(\"Enter a positive integer: \"))\n",
    "s = 0\n",
    "for i in range(1, n + 1):\n",
    "    s += i\n",
    "    print(\"Sum =\", s)"
   ]
  },
  {
   "cell_type": "markdown",
   "id": "2e99d0a8",
   "metadata": {},
   "source": [
    "12.write a program that takes a positive integer N as input and calculates the sum of the reciprocals of all numbers from 1 up to N. The program should display the final sum. Output of the program should be like: Enter a positive integer: 5 The sum of reciprocals from 1 to 5 is: 2.28"
   ]
  },
  {
   "cell_type": "code",
   "execution_count": 12,
   "id": "095eb4bd",
   "metadata": {},
   "outputs": [
    {
     "name": "stdout",
     "output_type": "stream",
     "text": [
      "Enter a positive integer: 6\n",
      "The sum of reciprocals from 1 to 6 is: 1.00\n",
      "The sum of reciprocals from 1 to 6 is: 1.50\n",
      "The sum of reciprocals from 1 to 6 is: 1.83\n",
      "The sum of reciprocals from 1 to 6 is: 2.08\n",
      "The sum of reciprocals from 1 to 6 is: 2.28\n",
      "The sum of reciprocals from 1 to 6 is: 2.45\n"
     ]
    }
   ],
   "source": [
    "n = int(input(\"Enter a positive integer: \"))\n",
    "s = 0.0\n",
    "for i in range(1, n + 1):\n",
    "    s += 1 / i\n",
    "    print(f\"The sum of reciprocals from 1 to {n} is: {s:.2f}\")"
   ]
  },
  {
   "cell_type": "markdown",
   "id": "a2d1b9c1",
   "metadata": {},
   "source": [
    "13.Write a program that prompts the user to enter a number and repeats this process 5 times. The program should accumulate the numbers entered and then display the final running total. Sample Output: Enter a number: 10 Enter a number: 15 Enter a number: 35 Enter a number: 40 Enter a number: 50 The final running total is: 150"
   ]
  },
  {
   "cell_type": "code",
   "execution_count": 15,
   "id": "1e93fd5d",
   "metadata": {},
   "outputs": [
    {
     "name": "stdout",
     "output_type": "stream",
     "text": [
      "Enter a number: 10\n",
      "The final running total is: 10.0\n",
      "Enter a number: 15\n",
      "The final running total is: 25.0\n",
      "Enter a number: 35\n",
      "The final running total is: 60.0\n",
      "Enter a number: 40\n",
      "The final running total is: 100.0\n",
      "Enter a number: 50\n",
      "The final running total is: 150.0\n"
     ]
    }
   ],
   "source": [
    "total = 0\n",
    "for _ in range(5):\n",
    "    x = float(input(\"Enter a number: \"))\n",
    "    total += x\n",
    "    print(\"The final running total is:\", total)"
   ]
  },
  {
   "cell_type": "markdown",
   "id": "6371531b",
   "metadata": {},
   "source": [
    "14.Write a program that prompts the user to enter a positive integer and calculates its factorial. The factorial of a positive integer 'n' is denoted as 'n!' and is calculated by multiplying all the integers from 1 to 'n' together. For example, the factorial of 5 (denoted as 5!) is calculated as 1 x 2 x 3 x 4 x 5. The program should display the factorial value if the input is a positive number, or display a message stating that the factorial does not exist for negative numbers. Additionally, for an input of zero, the program should output that the factorial of 0 is 1."
   ]
  },
  {
   "cell_type": "code",
   "execution_count": 14,
   "id": "f00f91f2",
   "metadata": {},
   "outputs": [
    {
     "name": "stdout",
     "output_type": "stream",
     "text": [
      "Enter an integer: 0\n",
      "Factorial of 0 is 1.\n"
     ]
    }
   ],
   "source": [
    "n = int(input(\"Enter an integer: \"))\n",
    "if n < 0:\n",
    "    print(\"Factorial does not exist for negative numbers.\")\n",
    "elif n == 0:\n",
    "    print(\"Factorial of 0 is 1.\")\n",
    "else:\n",
    "    fact = 1\n",
    "for i in range(1, n + 1):\n",
    "    fact *= i\n",
    "    print(f\"Factorial of {n} is {fact}.\")"
   ]
  },
  {
   "cell_type": "markdown",
   "id": "2a8cca28",
   "metadata": {},
   "source": [
    "15.Write a Python program that prompts the user to enter a base number and an exponent, and then calculates the power of the base to the exponent. The program should not use the exponentiation operator (**) or the math.pow() function. The program should handle both positive and negative exponents"
   ]
  },
  {
   "cell_type": "code",
   "execution_count": 23,
   "id": "e779f903",
   "metadata": {},
   "outputs": [
    {
     "name": "stdout",
     "output_type": "stream",
     "text": [
      "Enter base: 2\n",
      "Enter exponent (integer): 5\n",
      "2.0 ^ 5 = 2.0\n",
      "2.0 ^ 5 = 4.0\n",
      "2.0 ^ 5 = 8.0\n",
      "2.0 ^ 5 = 16.0\n",
      "2.0 ^ 5 = 32.0\n"
     ]
    }
   ],
   "source": [
    "base = float(input(\"Enter base: \"))\n",
    "exp = int(input(\"Enter exponent (integer): \"))\n",
    "\n",
    "\n",
    "if exp == 0:\n",
    "    print(f\"{base} ^ 0 = 1.0\")\n",
    "elif exp > 0:\n",
    "    result = 1.0\n",
    "for _ in range(exp):\n",
    "    result *= base\n",
    "    print(f\"{base} ^ {exp} = {result}\")\n",
    "else: # exp < 0\n",
    "    \n",
    "    if base == 0:\n",
    "        print(\"Undefined (0 to a negative power).\")\n",
    "    else:\n",
    "        result = 1.0\n",
    "    for _ in range(-exp):\n",
    "        result *= base\n",
    "        print(f\"{base} ^ {exp} = {1 / result}\")"
   ]
  }
 ],
 "metadata": {
  "kernelspec": {
   "display_name": "Python 3 (ipykernel)",
   "language": "python",
   "name": "python3"
  },
  "language_info": {
   "codemirror_mode": {
    "name": "ipython",
    "version": 3
   },
   "file_extension": ".py",
   "mimetype": "text/x-python",
   "name": "python",
   "nbconvert_exporter": "python",
   "pygments_lexer": "ipython3",
   "version": "3.11.2"
  }
 },
 "nbformat": 4,
 "nbformat_minor": 5
}
